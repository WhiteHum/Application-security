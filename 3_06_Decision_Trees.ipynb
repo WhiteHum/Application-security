{
  "cells": [
    {
      "cell_type": "markdown",
      "metadata": {
        "id": "view-in-github",
        "colab_type": "text"
      },
      "source": [
        "<a href=\"https://colab.research.google.com/github/WhiteHum/Application-security/blob/main/3_06_Decision_Trees.ipynb\" target=\"_parent\"><img src=\"https://colab.research.google.com/assets/colab-badge.svg\" alt=\"Open In Colab\"/></a>"
      ]
    },
    {
      "cell_type": "raw",
      "metadata": {
        "id": "VNfqRl0VP6n0"
      },
      "source": [
        "\\pagenumbering{gobble}"
      ]
    },
    {
      "cell_type": "markdown",
      "metadata": {
        "id": "jgpRzsJLP6n1"
      },
      "source": [
        "# Decision Trees\n",
        "\n",
        "## Overview\n",
        "\n",
        "In this lab, we will train a Decision Tree using the same SMART status data that we have used in the previous labs.  We will measure the accuracy of that decision tree and use it as the basis of evaluation for the lab that follows.\n",
        "\n",
        "## Goals\n",
        "\n",
        "Learn how to use a Decision Tree classifier\n",
        "\n",
        " \n",
        "## Estimated Time: 30 minutes\n",
        "\n",
        "As was true with the last lab, we will once again be evaluating the data from BackBlaze.\n",
        "\n",
        "# <img src=\"../images/task.png\" width=20 height=20> Task 6.1\n",
        "\n",
        "Please copy the relevant code from the previous two labs that:\n",
        "\n",
        "* Loads the data from the first 20 files\n",
        "* Splits the labels out into a separate array\n",
        "* Converts the data and the labels to Numpy arrays\n",
        "* Eliminates NaN and other potential issues\n",
        "* Splits the data and labels into two arrays, (x, y) and (x_test, y_test) where the test data is 25% of the original dataset"
      ]
    },
    {
      "cell_type": "code",
      "execution_count": null,
      "metadata": {
        "id": "7-dHXKdKP6n2"
      },
      "outputs": [],
      "source": [
        "import os\n",
        "import pandas as pd\n",
        "import numpy as np\n",
        "\n",
        "def get_file_list(starting_directory=\"../data/data_Q4_2020/\"):\n",
        "    final_list = list()\n",
        "    files = os.listdir(starting_directory)\n",
        "    for file in files:\n",
        "        file_name = os.path.join(starting_directory, file)\n",
        "        if os.path.isdir(file_name):\n",
        "            final_list = final_list + get_file_list(file_name)\n",
        "        else:\n",
        "            final_list.append(file_name)\n",
        "    return final_list\n",
        "\n",
        "all_files = get_file_list()\n",
        "columns = [\n",
        "    'failure', \n",
        "    'capacity_bytes',\n",
        "    'smart_1_normalized',\n",
        "    'smart_2_normalized',\n",
        "    'smart_3_normalized',\n",
        "    'smart_4_normalized',\n",
        "    'smart_5_normalized',\n",
        "    'smart_7_normalized',\n",
        "    'smart_8_normalized',\n",
        "    'smart_9_normalized',\n",
        "    'smart_10_normalized',\n",
        "    'smart_11_normalized',\n",
        "    'smart_12_normalized',\n",
        "    'smart_13_normalized',\n",
        "    'smart_15_normalized',\n",
        "    'smart_16_normalized',\n",
        "    'smart_17_normalized',\n",
        "    'smart_18_normalized',\n",
        "    'smart_22_normalized',\n",
        "    'smart_23_normalized',\n",
        "    'smart_24_normalized',\n",
        "    'smart_168_normalized',\n",
        "    'smart_170_normalized',\n",
        "    'smart_173_normalized',\n",
        "    'smart_174_normalized',\n",
        "    'smart_175_normalized',\n",
        "    'smart_177_normalized',\n",
        "    'smart_179_normalized',\n",
        "    'smart_180_normalized',\n",
        "    'smart_181_normalized',\n",
        "    'smart_182_normalized',\n",
        "    'smart_183_normalized',\n",
        "    'smart_184_normalized',\n",
        "    'smart_187_normalized',\n",
        "    'smart_188_normalized',\n",
        "    'smart_189_normalized',\n",
        "    'smart_190_normalized',\n",
        "    'smart_191_normalized',\n",
        "    'smart_192_normalized',\n",
        "    'smart_193_normalized',\n",
        "    'smart_194_normalized',\n",
        "    'smart_195_normalized',\n",
        "    'smart_196_normalized',\n",
        "    'smart_197_normalized',\n",
        "    'smart_198_normalized',\n",
        "    'smart_199_normalized',\n",
        "    'smart_200_normalized',\n",
        "    'smart_201_normalized',\n",
        "    'smart_202_normalized',\n",
        "    'smart_206_normalized',\n",
        "    'smart_210_normalized',\n",
        "    'smart_218_normalized',\n",
        "    'smart_220_normalized',\n",
        "    'smart_222_normalized',\n",
        "    'smart_223_normalized',\n",
        "    'smart_224_normalized',\n",
        "    'smart_225_normalized',\n",
        "    'smart_226_normalized',\n",
        "    'smart_231_normalized',\n",
        "    'smart_232_normalized',\n",
        "    'smart_233_normalized',\n",
        "    'smart_234_normalized',\n",
        "    'smart_235_normalized',\n",
        "    'smart_240_normalized',\n",
        "    'smart_241_normalized',\n",
        "    'smart_242_normalized',\n",
        "    'smart_245_normalized',\n",
        "    'smart_247_normalized',\n",
        "    'smart_248_normalized',\n",
        "    'smart_250_normalized',\n",
        "    'smart_251_normalized',\n",
        "    'smart_252_normalized',\n",
        "    'smart_254_normalized',\n",
        "    'smart_255_normalized'\n",
        "]\n",
        "started = False\n",
        "for f in all_files[:5]:\n",
        "    if started:\n",
        "        new_df = pd.read_csv(f, usecols=columns)\n",
        "        df = df.append(new_df, ignore_index=True)\n",
        "    else:\n",
        "        df = pd.read_csv(f, usecols=columns)\n",
        "        started = True\n",
        "\n",
        "# Grab the labels\n",
        "labels = df['failure'].to_numpy()\n",
        "# Drop the failure column\n",
        "df.drop('failure', axis=1, inplace=True)\n",
        "\n",
        "# Convert to an array and replace NaN values\n",
        "x = df.to_numpy()\n",
        "for i in np.argwhere(np.isnan(x)):\n",
        "    x[i[0],i[1]] = 0\n",
        "\n",
        "testing_split = int(len(labels)*0.25)\n",
        "\n",
        "x_train = x[:testing_split]\n",
        "y_train = labels[:testing_split]\n",
        "x_test = x[testing_split:]\n",
        "y_test = labels[testing_split:]\n",
        "\n",
        "\n"
      ]
    },
    {
      "cell_type": "markdown",
      "metadata": {
        "id": "r8EAetorP6n4"
      },
      "source": [
        "Decision Trees are also available to us in the Scikit Learn package in the `tree` module.  After importing this module, we can access Decision Trees using the `DecisionTreeClassifier` class.  Using this class is exceptionally simple.  As with most classifiers, we need simply pass it the data and the labels, after which it will build the classifier.\n",
        "\n",
        "# <img src=\"../images/task.png\" width=20 height=20> Task 6.2\n",
        "\n",
        "The `sklearn` package includes a `tree` module that can be used to build decision trees easily.  Import the `tree` module.  Use it to instantiate a `DecisionTreeClassifer()` object and fit the model.\n",
        "\n",
        "Use the `tree.plot_tree()` function to plot the resulting classifier."
      ]
    },
    {
      "cell_type": "code",
      "execution_count": null,
      "metadata": {
        "id": "ZsC4fuWZP6n4",
        "outputId": "3f3d6b3c-8598-4ada-97ec-fbfc73a4ab77"
      },
      "outputs": [
        {
          "data": {
            "text/plain": [
              "[Text(163.59545454545454, 201.90857142857143, 'X[8] <= 40.5\\ngini = 0.0\\nsamples = 192150\\nvalue = [192145, 5]'),\n",
              " Text(76.0909090909091, 170.84571428571428, 'X[52] <= 39.5\\ngini = 0.004\\nsamples = 999\\nvalue = [997, 2]'),\n",
              " Text(30.436363636363637, 139.78285714285715, 'X[52] <= 38.5\\ngini = 0.002\\nsamples = 994\\nvalue = [993, 1]'),\n",
              " Text(15.218181818181819, 108.72, 'gini = 0.0\\nsamples = 965\\nvalue = [965, 0]'),\n",
              " Text(45.654545454545456, 108.72, 'X[38] <= 99.5\\ngini = 0.067\\nsamples = 29\\nvalue = [28, 1]'),\n",
              " Text(30.436363636363637, 77.65714285714284, 'gini = 0.0\\nsamples = 17\\nvalue = [17, 0]'),\n",
              " Text(60.872727272727275, 77.65714285714284, 'gini = 0.153\\nsamples = 12\\nvalue = [11, 1]'),\n",
              " Text(121.74545454545455, 139.78285714285715, 'X[52] <= 40.5\\ngini = 0.32\\nsamples = 5\\nvalue = [4, 1]'),\n",
              " Text(106.52727272727273, 108.72, 'X[8] <= 39.5\\ngini = 0.444\\nsamples = 3\\nvalue = [2, 1]'),\n",
              " Text(91.30909090909091, 77.65714285714284, 'gini = 0.0\\nsamples = 1\\nvalue = [1, 0]'),\n",
              " Text(121.74545454545455, 77.65714285714284, 'gini = 0.5\\nsamples = 2\\nvalue = [1, 1]'),\n",
              " Text(136.96363636363637, 108.72, 'gini = 0.0\\nsamples = 2\\nvalue = [2, 0]'),\n",
              " Text(251.10000000000002, 170.84571428571428, 'X[43] <= 98.5\\ngini = 0.0\\nsamples = 191151\\nvalue = [191148, 3]'),\n",
              " Text(197.83636363636364, 139.78285714285715, 'X[32] <= 60.5\\ngini = 0.003\\nsamples = 1142\\nvalue = [1140, 2]'),\n",
              " Text(167.4, 108.72, 'X[39] <= 89.5\\ngini = 0.002\\nsamples = 1140\\nvalue = [1139, 1]'),\n",
              " Text(152.1818181818182, 77.65714285714284, 'gini = 0.0\\nsamples = 594\\nvalue = [594, 0]'),\n",
              " Text(182.61818181818182, 77.65714285714284, 'X[39] <= 90.5\\ngini = 0.004\\nsamples = 546\\nvalue = [545, 1]'),\n",
              " Text(167.4, 46.59428571428572, 'X[25] <= 50.0\\ngini = 0.03\\nsamples = 66\\nvalue = [65, 1]'),\n",
              " Text(152.1818181818182, 15.531428571428563, 'gini = 0.041\\nsamples = 48\\nvalue = [47, 1]'),\n",
              " Text(182.61818181818182, 15.531428571428563, 'gini = 0.0\\nsamples = 18\\nvalue = [18, 0]'),\n",
              " Text(197.83636363636364, 46.59428571428572, 'gini = 0.0\\nsamples = 480\\nvalue = [480, 0]'),\n",
              " Text(228.27272727272728, 108.72, 'X[34] <= 50.0\\ngini = 0.5\\nsamples = 2\\nvalue = [1, 1]'),\n",
              " Text(213.05454545454546, 77.65714285714284, 'gini = 0.0\\nsamples = 1\\nvalue = [1, 0]'),\n",
              " Text(243.4909090909091, 77.65714285714284, 'gini = 0.0\\nsamples = 1\\nvalue = [0, 1]'),\n",
              " Text(304.3636363636364, 139.78285714285715, 'X[8] <= 51.5\\ngini = 0.0\\nsamples = 190009\\nvalue = [190008, 1]'),\n",
              " Text(289.1454545454545, 108.72, 'X[31] <= 94.5\\ngini = 0.0\\nsamples = 14025\\nvalue = [14024, 1]'),\n",
              " Text(273.92727272727274, 77.65714285714284, 'X[3] <= 95.5\\ngini = 0.005\\nsamples = 434\\nvalue = [433, 1]'),\n",
              " Text(258.70909090909095, 46.59428571428572, 'gini = 0.0\\nsamples = 1\\nvalue = [0, 1]'),\n",
              " Text(289.1454545454545, 46.59428571428572, 'gini = 0.0\\nsamples = 433\\nvalue = [433, 0]'),\n",
              " Text(304.3636363636364, 77.65714285714284, 'gini = 0.0\\nsamples = 13591\\nvalue = [13591, 0]'),\n",
              " Text(319.5818181818182, 108.72, 'gini = 0.0\\nsamples = 175984\\nvalue = [175984, 0]')]"
            ]
          },
          "execution_count": 5,
          "metadata": {},
          "output_type": "execute_result"
        },
        {
          "data": {
            "image/png": "[encoded data removed]",
            "text/plain": [
              "<Figure size 432x288 with 1 Axes>"
            ]
          },
          "metadata": {
            "needs_background": "light"
          },
          "output_type": "display_data"
        }
      ],
      "source": [
        "# Import the Decision Tree \"stuff\" from sklearn\n",
        "from sklearn import tree\n",
        "\n",
        "# Create a tree object\n",
        "classifier = tree.DecisionTreeClassifier()\n",
        "# Ask the tree to fit the data to the labels!  That's it!\n",
        "classifier = classifier.fit(x_train, y_train)\n",
        "\n",
        "# The DecisionTreeClassifier type provides a convenient visualization element. \n",
        "# Let's ask it to show us how our tree works.\n",
        "tree.plot_tree(classifier)\n"
      ]
    },
    {
      "cell_type": "markdown",
      "metadata": {
        "id": "x3I7tIeRP6n5"
      },
      "source": [
        "That was pretty easy!  How do we use the classifier?  We use the same `predict()` pattern that we have seen with others.\n",
        "\n",
        "# <img src=\"../images/task.png\" width=20 height=20> Task 6.3\n",
        "\n",
        "Use the tree that you have created to `predict()` the test data.  What is the accuracy of the tree?\n"
      ]
    },
    {
      "cell_type": "code",
      "execution_count": null,
      "metadata": {
        "id": "xCmnbxj-P6n5",
        "outputId": "2385c11a-21d1-4076-e549-0793ff51e3e2"
      },
      "outputs": [
        {
          "name": "stdout",
          "output_type": "stream",
          "text": [
            "Overall accuracy: 99.99722440029699%\n"
          ]
        },
        {
          "data": {
            "text/plain": [
              "0.9999722440029699"
            ]
          },
          "execution_count": 3,
          "metadata": {},
          "output_type": "execute_result"
        }
      ],
      "source": [
        "def accuracy(y_hat, y):\n",
        "    accuracy = 0\n",
        "    correct = [y_hat[i] == y[i] for i in range(len(y_hat))]\n",
        "    correct = np.array([1 if i else 0 for i in correct])\n",
        "    accuracy = correct.sum()/len(y_hat)\n",
        "    print(f'Overall accuracy: {accuracy * 100.0}%')\n",
        "    return accuracy\n",
        "\n",
        "predictions = classifier.predict(x_test)\n",
        "accuracy(y_test, predictions)"
      ]
    },
    {
      "cell_type": "markdown",
      "metadata": {
        "id": "8qt9Q0TbP6n5"
      },
      "source": [
        "# Conclusion\n",
        "\n",
        "Decision Trees follow a very simple algorithm.  This makes building them relatively straightforward, though they can end up being quite tall.  The downside of a Decision Tree is that the decision boundary ends up being fairly hard, meaning that we may end up having mis-classifications for new data unless the new data is very similar to the training data.  In the next lab, we will attempt to improve this."
      ]
    },
    {
      "cell_type": "code",
      "execution_count": null,
      "metadata": {
        "id": "qwKeIn05P6n5"
      },
      "outputs": [],
      "source": []
    }
  ],
  "metadata": {
    "kernelspec": {
      "display_name": "Python 3 (ipykernel)",
      "language": "python",
      "name": "python3"
    },
    "language_info": {
      "codemirror_mode": {
        "name": "ipython",
        "version": 3
      },
      "file_extension": ".py",
      "mimetype": "text/x-python",
      "name": "python",
      "nbconvert_exporter": "python",
      "pygments_lexer": "ipython3",
      "version": "3.9.7"
    },
    "colab": {
      "provenance": [],
      "include_colab_link": true
    }
  },
  "nbformat": 4,
  "nbformat_minor": 0
}
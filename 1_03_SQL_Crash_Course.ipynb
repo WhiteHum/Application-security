{
  "cells": [
    {
      "cell_type": "markdown",
      "metadata": {
        "id": "view-in-github",
        "colab_type": "text"
      },
      "source": [
        "<a href=\"https://colab.research.google.com/github/WhiteHum/Application-security/blob/main/1_03_SQL_Crash_Course.ipynb\" target=\"_parent\"><img src=\"https://colab.research.google.com/assets/colab-badge.svg\" alt=\"Open In Colab\"/></a>"
      ]
    },
    {
      "cell_type": "raw",
      "metadata": {
        "id": "K74Ss2LGsatd"
      },
      "source": [
        "\\pagenumbering{gobble}"
      ]
    },
    {
      "cell_type": "markdown",
      "metadata": {
        "id": "iST8tqCmsate"
      },
      "source": [
        "# SQL Crash Course\n",
        "\n",
        "## Overview\n",
        "\n",
        "One of the most common data sources for our work will be SQL databases.  SQL, or Structured Query Language, has been around for decades.  Even though NoSQL databases have become popular, SQL is still the most efficient solution for many problems.\n",
        "\n",
        "In this lab, you will learn how to interact with a SQL database using Python.  You will learn how to enumerate databases, tables, and determine the structure of datables.  Finally, you will have an opportunity to apply some of what we discussed regarding SQL Joins.\n",
        "\n",
        "***This lab requires the virtual machine.  If it is not currently running, please get it started now!***\n",
        "\n",
        "## Goals\n",
        "\n",
        "By the end of this lab, you should be able to:\n",
        "\n",
        " * Connect to SQL databases\n",
        " * Determine the databases present\n",
        " * Determine the tructure of a database\n",
        " * Enumerate tables\n",
        " * Retrieve data\n",
        " * Execute SQL Joins\n",
        " \n",
        "## Estimated Time: 30 - 45 minutes\n",
        "\n",
        "Since our language of choice is Python, we will use Python to explore SQL databases as well.  Our library of choice is `psycopg2`, which is one of, if not the most, popular libraries for working with Postgres from Python.\n",
        "\n",
        "# <img src=\"../images/task.png\" width=20 height=20> Task 3.1\n",
        "\n",
        "Let's begin by importing the library `psycopg2`.  Please use the following cell to do so:"
      ]
    },
    {
      "cell_type": "code",
      "execution_count": null,
      "metadata": {
        "id": "QzlCyFhRsatf"
      },
      "outputs": [],
      "source": [
        "import psycopg2"
      ]
    },
    {
      "cell_type": "markdown",
      "metadata": {
        "id": "LV4FcPAesatg"
      },
      "source": [
        "# <img src=\"../images/task.png\" width=20 height=20> Task 3.2\n",
        "\n",
        "Now that the library is imported, we need to connect to a database.  This lab will make use of your virtual machine.  If you have not yet started it up, please do so now.  When the virtual machine finishes booting, you should be able to find the IP address for your virtual machine in the console window.  \n",
        "\n",
        "![VM IP Address](images/vm-ip-address.png)\n",
        "\n",
        "Please find that address and make note of it.  In fact, use the next cell to assign that address to the variable `SERVER_ADDRESS`."
      ]
    },
    {
      "cell_type": "code",
      "execution_count": null,
      "metadata": {
        "id": "9euSFRtksatg"
      },
      "outputs": [],
      "source": [
        "SERVER_ADDRESS = \"192.168.100.129\"  # This must be changed to the address of your VM!"
      ]
    },
    {
      "cell_type": "markdown",
      "metadata": {
        "id": "jwTptZVbsath"
      },
      "source": [
        "To connect to the database, we must make use of the `psycopg2.connect()` method.  Calling `help(psycopg2.connect)` we find:\n",
        "\n",
        "```\n",
        "connect(dsn=None, connection_factory=None, cursor_factory=None, **kwargs)\n",
        "    Create a new database connection.\n",
        "    \n",
        "    The connection parameters can be specified as a string:\n",
        "    \n",
        "        conn = psycopg2.connect(\"dbname=test user=postgres password=secret\")\n",
        "    \n",
        "    or using a set of keyword arguments:\n",
        "    \n",
        "        conn = psycopg2.connect(database=\"test\", user=\"postgres\", password=\"secret\")\n",
        "    \n",
        "    Or as a mix of both. The basic connection parameters are:\n",
        "    \n",
        "    - *dbname*: the database name\n",
        "    - *database*: the database name (only as keyword argument)\n",
        "    - *user*: user name used to authenticate\n",
        "    - *password*: password used to authenticate\n",
        "    - *host*: database host address (defaults to UNIX socket if not provided)\n",
        "    - *port*: connection port number (defaults to 5432 if not provided)\n",
        "    \n",
        "    Using the *connection_factory* parameter a different class or connections\n",
        "    factory can be specified. It should be a callable object taking a dsn\n",
        "    argument.\n",
        "    \n",
        "    Using the *cursor_factory* parameter, a new default cursor factory will be\n",
        "    used by cursor().\n",
        "    \n",
        "    Using *async*=True an asynchronous connection will be created. *async_* is\n",
        "    a valid alias (for Python versions where ``async`` is a keyword).\n",
        "    \n",
        "    Any other keyword parameter will be passed to the underlying client\n",
        "    library: the list of supported parameters depends on the library version.\n",
        "```\n",
        "\n",
        "Reading through the documentation we can see that we have two main alternatives.  We can either create a string with all of the parameters embedded, or we can call `connect()` with keyword arguments.  Let's use the keyword arguments which feels more pythonic.\n",
        "\n",
        "# <img src=\"../images/task.png\" width=20 height=20> Task 3.3\n",
        "\n",
        "Using the following cell, establish a connection object named `db` that is connected to the Postgres server on your virtual machine.  The username and password you should use are `sans` and `training`.  Since we *must* specify a database, use the database `postgres` for now."
      ]
    },
    {
      "cell_type": "code",
      "execution_count": null,
      "metadata": {
        "id": "Uq56jK8gsath"
      },
      "outputs": [],
      "source": [
        "db = psycopg2.connect(\n",
        "    host = SERVER_ADDRESS,\n",
        "    database = \"postgres\",\n",
        "    user = \"sans\",\n",
        "    password = \"ssrc2022!\"\n",
        ")"
      ]
    },
    {
      "cell_type": "markdown",
      "metadata": {
        "id": "EUV-sTQxsath"
      },
      "source": [
        "***Note:*** While writing queries, if you end up generating a database error and after fixing your query it still appears not to function, *you may need to recreate your database connection to resolve the problem!*\n",
        "\n",
        "\n",
        "Now that we are connected, let's find out which databases are available.\n",
        "\n",
        "In a Postgres database, information about the databases that are on the server or in the cluster is stored in the table `pg_database` within the `postgres` database.  Since we're already connected to the `postgres` database, we just need to query the `pg_database` table.\n",
        "\n",
        "To execute a query, in this case a `SELECT` statement, we need to take several steps using this driver:\n",
        "\n",
        " 1. Create a *cursor*\n",
        " 2. Execute a query using that cursor\n",
        " 3. Retrieve the results from the cursor\n",
        " \n",
        "What is a *cursor*?  You can think of it as a database analog to the same kind of cursor that you use when editing a text document.  It is a marker or a placeholder.  When we *create* a cursor, it is as though we have opened a document for editing, but our mouse has not yet clicked into the content.  When we click into the content, a cursor appears.  While this is not exactly the same, this illustration is close enough for our purposes.\n",
        "\n",
        "Creating a cursor is pretty simple:\n",
        "\n",
        "```\n",
        "cursor = db.cursor()\n",
        "```\n",
        "\n",
        "That's it!  Now that we have one, we would need to do something with it.  This will usually involve the use of the `execute()` method on the cursor.  For example, if we wanted to query all of the columns from a table we could use something like:\n",
        "\n",
        "```\n",
        "cursor.execute(\"SELECT * from pg_database\")\n",
        "```\n",
        "\n",
        "Notice that we have placed the database query inside of quotation marks.  Since SQL statements can become quite complex, we may choose to write them as follows:\n",
        "\n",
        "```\n",
        "cursor.execute(\"\"\"\n",
        "SELECT *\n",
        "    FROM pg_database\n",
        "\"\"\")\n",
        "```\n",
        "\n",
        "By using triple quotes, which is usually termed a *heredoc*, we can embed SQL that spans multiple lines with various indentures, allowing it to be fairly easy to follow.\n",
        "\n",
        "Once we have executed the query, we can now retrieve the results.  While we can do this iteratively, for now let's use the `fetchall()` method for the cursor:\n",
        "\n",
        "```\n",
        "results = cursor.fetchall()\n",
        "```\n",
        "\n",
        "\n",
        "# <img src=\"../images/task.png\" width=20 height=20> Task 3.4\n",
        "\n",
        "Retrieve all of the rows from the `pg_database` table in the `postgres` database.  Print all of the results."
      ]
    },
    {
      "cell_type": "code",
      "execution_count": null,
      "metadata": {
        "id": "0u2-vCeNsati",
        "outputId": "824315ef-7423-49d1-d6c4-d453b76a5f14"
      },
      "outputs": [
        {
          "name": "stdout",
          "output_type": "stream",
          "text": [
            "(13425, 'postgres', 10, 6, 'C.UTF-8', 'C.UTF-8', False, True, -1, 13424, '479', '1', 1663, None)\n",
            "(1, 'template1', 10, 6, 'C.UTF-8', 'C.UTF-8', True, True, -1, 13424, '479', '1', 1663, '{=c/postgres,postgres=CTc/postgres}')\n",
            "(13424, 'template0', 10, 6, 'C.UTF-8', 'C.UTF-8', True, False, -1, 13424, '479', '1', 1663, '{=c/postgres,postgres=CTc/postgres}')\n",
            "(16387, 'news', 16384, 6, 'C.UTF-8', 'C.UTF-8', False, True, -1, 13424, '479', '1', 1663, None)\n"
          ]
        }
      ],
      "source": [
        "cursor = db.cursor()\n",
        "cursor.execute(\"\"\"\n",
        "SELECT * FROM pg_database\n",
        "\"\"\")\n",
        "results = cursor.fetchall()\n",
        "_ = [print(i) for i in results]"
      ]
    },
    {
      "cell_type": "markdown",
      "metadata": {
        "id": "8TN-CHn0sati"
      },
      "source": [
        "If all has gone well, you should see four rows returned.  While we can make a guess as to what the values in the rows mean, there's a better way to find out.  If we were using the database console, this would be as trivial as executing the command `DESCRIBE TABLE pg_database`.  Unfortunately for us, we don't have command line access.  (Well, we do, but we are trying to approach this as you would when attempting to interrogate a database remotely when you *are not* an administrator but only have *read* access.)\n",
        "\n",
        "The information about the database table structure is stored in the `information_schema.columns` table in Postgres.  There is a tremendous amount of data stored in this database and table, so we will want to extract only a few columns:\n",
        "\n",
        " * `table_name`\n",
        " * `column_name`\n",
        " * `data_type`\n",
        "\n",
        "\n",
        "# <img src=\"images/task.png\" width=20 height=20> Task 3.5\n",
        " \n",
        "Create a cursor and execute a query to discover the structure of the `pg_database` table.  Print the results.\n"
      ]
    },
    {
      "cell_type": "code",
      "execution_count": null,
      "metadata": {
        "id": "ukg3DW_9satj",
        "outputId": "de5f38df-981d-41e5-f13a-a4cf2da098f0"
      },
      "outputs": [
        {
          "name": "stdout",
          "output_type": "stream",
          "text": [
            "('pg_database', 'oid', 'oid')\n",
            "('pg_database', 'datname', 'name')\n",
            "('pg_database', 'datdba', 'oid')\n",
            "('pg_database', 'encoding', 'integer')\n",
            "('pg_database', 'datcollate', 'name')\n",
            "('pg_database', 'datctype', 'name')\n",
            "('pg_database', 'datistemplate', 'boolean')\n",
            "('pg_database', 'datallowconn', 'boolean')\n",
            "('pg_database', 'datconnlimit', 'integer')\n",
            "('pg_database', 'datlastsysoid', 'oid')\n",
            "('pg_database', 'datfrozenxid', 'xid')\n",
            "('pg_database', 'datminmxid', 'xid')\n",
            "('pg_database', 'dattablespace', 'oid')\n",
            "('pg_database', 'datacl', 'ARRAY')\n"
          ]
        }
      ],
      "source": [
        "cursor = db.cursor()\n",
        "cursor.execute(\"\"\"\n",
        "SELECT table_name, column_name, data_type\n",
        "    FROM information_schema.columns\n",
        "    WHERE table_name = 'pg_database'\n",
        "\"\"\")\n",
        "results = cursor.fetchall()\n",
        "_ = [print(i) for i in results]"
      ]
    },
    {
      "cell_type": "markdown",
      "metadata": {
        "id": "yx9mtfJcsatj"
      },
      "source": [
        "Excellent!  The names used for the columns aren't really intuitive, but they definitely follow a pattern.  Many of them begin with the first three letters *dat*, likely abbreviating \"data\" or \"database.\"  The column that looks as though it will have the database names is the `datname` column.\n",
        "\n",
        "\n",
        "# <img src=\"../images/task.png\" width=20 height=20> Task 3.6\n",
        " \n",
        "Create a query to retrieve *only* the database names from `pg_database` and print them out."
      ]
    },
    {
      "cell_type": "code",
      "execution_count": null,
      "metadata": {
        "id": "IL5rAip6satj",
        "outputId": "a568e923-ac74-409c-c13c-156995b6f908"
      },
      "outputs": [
        {
          "name": "stdout",
          "output_type": "stream",
          "text": [
            "('postgres',)\n",
            "('template1',)\n",
            "('template0',)\n",
            "('news',)\n"
          ]
        }
      ],
      "source": [
        "cursor = db.cursor()\n",
        "cursor.execute(\"\"\"\n",
        "SELECT datname\n",
        "    FROM pg_database\n",
        "\"\"\")\n",
        "results = cursor.fetchall()\n",
        "_ = [print(i) for i in results]"
      ]
    },
    {
      "cell_type": "markdown",
      "metadata": {
        "id": "gANn9A8_satj"
      },
      "source": [
        "The database of interest for us is the *news* database.  \n",
        "\n",
        "Information about the tables in databases is stored in another special Postgres database, `pg_catalog`.  More specifically, we are interested in the `pg_tables` table within the `pg_catalog` database.  We can interrogate the `information_schema.columns` table to figure out which tables are available in a database.  To do so, we will need to use a `WHERE` clause using the appropriate column name that identifies the table of interest.\n",
        "\n",
        "# <img src=\"../images/task.png\" width=20 height=20> Task 3.7\n",
        " \n",
        "Write code to determine the name of the field in `pg_catalog.pg_tables` that contains the name of the table that any field is a part of."
      ]
    },
    {
      "cell_type": "code",
      "execution_count": null,
      "metadata": {
        "id": "OriHAtxMsatj",
        "outputId": "ed7d4f3e-f400-488c-bbd0-ba7ad6992d19"
      },
      "outputs": [
        {
          "name": "stdout",
          "output_type": "stream",
          "text": [
            "('schemaname',)\n",
            "('tablename',)\n",
            "('tableowner',)\n",
            "('tablespace',)\n",
            "('hasindexes',)\n",
            "('hasrules',)\n",
            "('hastriggers',)\n",
            "('rowsecurity',)\n"
          ]
        }
      ],
      "source": [
        "cursor = db.cursor()\n",
        "cursor.execute(\"\"\"\n",
        "SELECT column_name\n",
        "    FROM information_schema.columns\n",
        "    WHERE table_name = 'pg_tables'\n",
        "\"\"\")\n",
        "results = cursor.fetchall()\n",
        "_ = [print(i) for i in results]"
      ]
    },
    {
      "cell_type": "markdown",
      "metadata": {
        "id": "XGTgawd-satj"
      },
      "source": [
        "Once you figure this last task out, you may begin to notice some inconsistencies.  For example, the `information_schema.columns` table uses the name `table_name` to refer to the table, while `pg_tables` uses the column name `tablename`.  As unpleasant as this has been so far, the ability to find things like these names is the reason that we are taking this approach in investigating SQL databases.\n",
        "\n",
        "Let's turn our attention to the *news* database.  We'd like to enumerate the tables that are contained in this database.  This information is stored in the `information_schema` database.  More specifically, it is inside of the `information_schema.tables` table.\n",
        "\n",
        "This table contains information on every table within the database server.  In our case, much of this is for internal databases and tables.  How can we easily identify tables that are *not* part of the database system itself?\n",
        "\n",
        "Within this table there is a column named `table_schema`.  All of the values within this column that begin `pg_` are internal.  Tables that are a part of some other user or application facing database will have the value `public`.  Perfect!  This gives us a way that we can find tables that are a part of databases that we are interested in.\n",
        "\n",
        "In our sample database, there is only one public table.  What if that isn't the case?  What if there are dozens or hundreds of databases?  How can we find only the tables connected to the database of interest?  This same table, `information_schema.tables`, has another column named `table_catalog`.  The `table_catalog` value is the name of the database that the table is a part of.\n",
        "\n",
        "# <img src=\"../images/task.png\" width=20 height=20> Task 3.8\n",
        " \n",
        "Reconnect to the database server, this time using the `news` database.  Retrieve and print out the names of all of the tables within the *news* database."
      ]
    },
    {
      "cell_type": "code",
      "execution_count": null,
      "metadata": {
        "id": "S8agdFeCsatk",
        "outputId": "a95e61c2-49e3-49dd-948f-8d0996eb95a6"
      },
      "outputs": [
        {
          "name": "stdout",
          "output_type": "stream",
          "text": [
            "('news', 'categories')\n",
            "('news', 'headlines')\n",
            "('news', 'summaries')\n"
          ]
        }
      ],
      "source": [
        "db = psycopg2.connect(\n",
        "    host = SERVER_ADDRESS,\n",
        "    database = \"news\",\n",
        "    user = \"sans\",\n",
        "    password = \"ssrc2022!\"\n",
        ")\n",
        "cursor = db.cursor()\n",
        "cursor.execute(\"\"\"\n",
        "SELECT table_catalog, table_name \n",
        "    FROM information_schema.tables\n",
        "    WHERE table_schema = 'public'\n",
        "\"\"\")\n",
        "results = cursor.fetchall()\n",
        "_ = [print(i) for i in results]"
      ]
    },
    {
      "cell_type": "markdown",
      "metadata": {
        "id": "1Gvoyxeusatk"
      },
      "source": [
        "Now that we have the names of the tables in the `news` database, let's look at each table and see what the names of the fields are.\n",
        "\n",
        "# <img src=\"../images/task.png\" width=20 height=20> Task 3.9\n",
        " \n",
        "Write a function that will return a list of the column names for a table from a database.  Retrieve and print the column names for each of the tables in the `news` database."
      ]
    },
    {
      "cell_type": "code",
      "execution_count": null,
      "metadata": {
        "id": "SiEpQErlsatk",
        "outputId": "e50df5b9-3e48-4536-90b8-36c77cffca1b"
      },
      "outputs": [
        {
          "name": "stdout",
          "output_type": "stream",
          "text": [
            "Table: categories\n",
            "('categories', 'category_id', 'integer')\n",
            "('categories', 'category_name', 'character varying')\n",
            "Table: headlines\n",
            "('headlines', 'headline_id', 'integer')\n",
            "('headlines', 'category_id', 'integer')\n",
            "('headlines', 'summary_id', 'integer')\n",
            "('headlines', 'date', 'date')\n",
            "('headlines', 'headline', 'character varying')\n",
            "('headlines', 'url', 'character varying')\n",
            "Table: summaries\n",
            "('summaries', 'summary_id', 'integer')\n",
            "('summaries', 'summary', 'character varying')\n"
          ]
        }
      ],
      "source": [
        "def column_names(table):\n",
        "    cursor = db.cursor()\n",
        "    cursor.execute(f\"\"\"\n",
        "    SELECT table_name, column_name, data_type\n",
        "        FROM information_schema.columns\n",
        "        WHERE table_name = '{table}'\n",
        "    \"\"\")\n",
        "    results = cursor.fetchall()\n",
        "    return results\n",
        "\n",
        "for table in ['categories', 'headlines', 'summaries']:\n",
        "    print(f\"Table: {table}\")\n",
        "    _ = [print(i) for i in column_names(table)]"
      ]
    },
    {
      "cell_type": "markdown",
      "metadata": {
        "id": "kFJOC3uLsatk"
      },
      "source": [
        "Let's try to select some data out of the database.  Recall that the general form for a select is:\n",
        "\n",
        "```\n",
        "SELECT [columns | *] FROM table[,table2...] [WHERE <conditions>]\n",
        "```\n",
        "\n",
        "We can use this to load data out of our database.\n",
        "\n",
        "# <img src=\"../images/task.png\" width=20 height=20> Task 3.10\n",
        " \n",
        "Create a database cursor and use it to execute a `SELECT` query, retrieving all of the category names from the *categories* table.  Print out the category names."
      ]
    },
    {
      "cell_type": "code",
      "execution_count": null,
      "metadata": {
        "id": "YM9zXiUfsatk",
        "outputId": "34000270-8d1e-457d-deae-cce2139ff212"
      },
      "outputs": [
        {
          "name": "stdout",
          "output_type": "stream",
          "text": [
            "('CRIME',)\n",
            "('ENTERTAINMENT',)\n",
            "('WORLD NEWS',)\n",
            "('IMPACT',)\n",
            "('POLITICS',)\n",
            "('WEIRD NEWS',)\n",
            "('BLACK VOICES',)\n",
            "('WOMEN',)\n",
            "('COMEDY',)\n",
            "('QUEER VOICES',)\n",
            "('SPORTS',)\n",
            "('BUSINESS',)\n",
            "('TRAVEL',)\n",
            "('MEDIA',)\n",
            "('TECH',)\n",
            "('RELIGION',)\n",
            "('SCIENCE',)\n",
            "('LATINO VOICES',)\n",
            "('EDUCATION',)\n",
            "('COLLEGE',)\n",
            "('PARENTS',)\n",
            "('ARTS & CULTURE',)\n",
            "('STYLE',)\n",
            "('GREEN',)\n",
            "('TASTE',)\n",
            "('HEALTHY LIVING',)\n",
            "('THE WORLDPOST',)\n",
            "('GOOD NEWS',)\n",
            "('WORLDPOST',)\n",
            "('FIFTY',)\n",
            "('ARTS',)\n",
            "('WELLNESS',)\n",
            "('PARENTING',)\n",
            "('HOME & LIVING',)\n",
            "('STYLE & BEAUTY',)\n",
            "('DIVORCE',)\n",
            "('WEDDINGS',)\n",
            "('FOOD & DRINK',)\n",
            "('MONEY',)\n",
            "('ENVIRONMENT',)\n",
            "('CULTURE & ARTS',)\n"
          ]
        }
      ],
      "source": [
        "db = psycopg2.connect(\n",
        "    host = SERVER_ADDRESS,\n",
        "    database = \"news\",\n",
        "    user = \"sans\",\n",
        "    password = \"ssrc2022!\"\n",
        ")\n",
        "\n",
        "cursor = db.cursor()\n",
        "cursor.execute(\"\"\"\n",
        "SELECT category_name\n",
        "    FROM categories\n",
        "\"\"\")\n",
        "results = cursor.fetchall()\n",
        "_ = [print(i) for i in results]"
      ]
    },
    {
      "cell_type": "markdown",
      "metadata": {
        "id": "1gcceRGosatk"
      },
      "source": [
        "Next, let's look at the *headlines* table.  From the work that we did above, we know that the fields in this table include the `category_id`, `summary_id`, `headline`, `url`, and `date`.\n",
        "\n",
        "# <img src=\"../images/task.png\" width=20 height=20> Task 3.11\n",
        " \n",
        "Retrieve and print out the first ten rows of the *headlines* table.\n",
        "\n",
        "***Hint:*** While we could retrieve the entire result set and then limit our output to only ten rows, we can also use the `LIMIT` option when executing our query.  This is one of the many optional values that we can send in a `SELECT` statement.  It will limit the result set returned to a maximum of the number specified."
      ]
    },
    {
      "cell_type": "code",
      "execution_count": null,
      "metadata": {
        "id": "jHMD7xd7satl",
        "outputId": "787d8f62-a772-4ea2-882f-8916b00e9b45"
      },
      "outputs": [
        {
          "name": "stdout",
          "output_type": "stream",
          "text": [
            "(1, 'There Were 2 Mass Shootings In Texas Last Week, But Only 1 On TV', 1, 1, 'https://www.huffingtonpost.com/entry/texas-amanda-painter-mass-shooting_us_5b081ab4e4b0802d69caad89', datetime.date(2018, 5, 26))\n",
            "(2, \"Will Smith Joins Diplo And Nicky Jam For The 2018 World Cup's Official Song\", 2, 2, 'https://www.huffingtonpost.com/entry/will-smith-joins-diplo-and-nicky-jam-for-the-official-2018-world-cup-song_us_5b09726fe4b0fdb2aa541201', datetime.date(2018, 5, 26))\n",
            "(3, 'Hugh Grant Marries For The First Time At Age 57', 2, 3, 'https://www.huffingtonpost.com/entry/hugh-grant-marries_us_5b09212ce4b0568a880b9a8c', datetime.date(2018, 5, 26))\n",
            "(4, \"Jim Carrey Blasts 'Castrato' Adam Schiff And Democrats In New Artwork\", 2, 4, 'https://www.huffingtonpost.com/entry/jim-carrey-adam-schiff-democrats_us_5b0950e8e4b0fdb2aa53e675', datetime.date(2018, 5, 26))\n",
            "(5, 'Julianna Margulies Uses Donald Trump Poop Bags To Pick Up After Her Dog', 2, 5, 'https://www.huffingtonpost.com/entry/julianna-margulies-trump-poop-bag_us_5b093ec2e4b0fdb2aa53df70', datetime.date(2018, 5, 26))\n",
            "(6, \"Morgan Freeman 'Devastated' That Sexual Harassment Claims Could Undermine Legacy\", 2, 6, 'https://www.huffingtonpost.com/entry/morgan-freeman-devastated-sexual-misconduct_us_5b096319e4b0802d69cba298', datetime.date(2018, 5, 26))\n",
            "(7, \"Donald Trump Is Lovin' New McDonald's Jingle In 'Tonight Show' Bit\", 2, 7, 'https://www.huffingtonpost.com/entry/donald-trump-mcondalds-tonight-show_us_5b093561e4b0fdb2aa53daba', datetime.date(2018, 5, 26))\n",
            "(8, 'What To Watch On Amazon Prime That’s New This Week', 2, 8, 'https://www.huffingtonpost.com/entry/amazon-prime-what-to-watch_us_5b044625e4b0c0b8b23ec14f', datetime.date(2018, 5, 26))\n",
            "(9, \"Mike Myers Reveals He'd 'Like To' Do A Fourth Austin Powers Film\", 2, 9, 'https://www.huffingtonpost.com/entry/mike-myers-reveals-he-wants-to-do-a-fourth-austin-powers-film_us_5b096198e4b0802d69cb9f15', datetime.date(2018, 5, 26))\n",
            "(10, 'What To Watch On Hulu That’s New This Week', 2, 10, 'https://www.huffingtonpost.com/entry/hulu-what-to-watch_us_5b0445bae4b0c0b8b23ec046', datetime.date(2018, 5, 26))\n"
          ]
        }
      ],
      "source": [
        "cursor = db.cursor()\n",
        "cursor.execute(\"\"\"\n",
        "SELECT *\n",
        "    FROM headlines LIMIT 10\n",
        "\"\"\")\n",
        "results = cursor.fetchall()\n",
        "_ = [print(i) for i in results]"
      ]
    },
    {
      "cell_type": "markdown",
      "metadata": {
        "id": "6lMiU7dfsatl"
      },
      "source": [
        "We are now successfully reading data out of database tables, but this isn't where the real power of SQL lies.  The real power is in creating and leveraging *relations*.\n",
        "\n",
        "What we'd like to do is retrieve the first ten headlines with the associated categories.  There are two ways that we can accomplish.  The first is leveraging the `WHERE` clause in the SQL `SELECT` statement:\n",
        "\n",
        "```\n",
        "SELECT table_1.column_a, table_2.column_b \n",
        "    FROM table_1, table_2\n",
        "    WHERE table_1.table_2_foreign_key=table_2.id_column\n",
        "```\n",
        "\n",
        "In other words, extract the column `column_a` from *table_1* and `column_b` from *table_2*.  The `WHERE` clause aligns or joins these two tables so that the column read from *table_2* will depend on the value of the foreign key field in *table_1*.\n",
        "\n",
        "Alternatively, we could write this as:\n",
        "\n",
        "```\n",
        "SELECT column_a, column_b_from_table_2\n",
        "    FROM table_1\n",
        "    INNER JOIN table_2 ON (table_1.table_2_foreign_key=table_2.id_column)\n",
        "```\n",
        "\n",
        "These two alternatives are equivalent and, in many ways, it is simply a matter of preference.  However, we would suggest that when you are performing a `JOIN` you are likely better explicitly calling it a `JOIN` rather than using `WHERE`.\n",
        "\n",
        "# <img src=\"../images/task.png\" width=20 height=20> Task 3.12\n",
        "\n",
        "Retrieve the first ten rows from the *headlines* table along with the matching `category_name` value from the *categories* table.  Print out the category name and the headline for each."
      ]
    },
    {
      "cell_type": "code",
      "execution_count": null,
      "metadata": {
        "id": "qepH-hrfsatl",
        "outputId": "4a5de8a7-8523-463a-a5ec-3a06fc2414ef"
      },
      "outputs": [
        {
          "name": "stdout",
          "output_type": "stream",
          "text": [
            "('CRIME', 'There Were 2 Mass Shootings In Texas Last Week, But Only 1 On TV')\n",
            "('ENTERTAINMENT', \"Will Smith Joins Diplo And Nicky Jam For The 2018 World Cup's Official Song\")\n",
            "('ENTERTAINMENT', 'Hugh Grant Marries For The First Time At Age 57')\n",
            "('ENTERTAINMENT', \"Jim Carrey Blasts 'Castrato' Adam Schiff And Democrats In New Artwork\")\n",
            "('ENTERTAINMENT', 'Julianna Margulies Uses Donald Trump Poop Bags To Pick Up After Her Dog')\n",
            "('ENTERTAINMENT', \"Morgan Freeman 'Devastated' That Sexual Harassment Claims Could Undermine Legacy\")\n",
            "('ENTERTAINMENT', \"Donald Trump Is Lovin' New McDonald's Jingle In 'Tonight Show' Bit\")\n",
            "('ENTERTAINMENT', 'What To Watch On Amazon Prime That’s New This Week')\n",
            "('ENTERTAINMENT', \"Mike Myers Reveals He'd 'Like To' Do A Fourth Austin Powers Film\")\n",
            "('ENTERTAINMENT', 'What To Watch On Hulu That’s New This Week')\n"
          ]
        }
      ],
      "source": [
        "cursor = db.cursor()\n",
        "cursor.execute(\"\"\"\n",
        "SELECT category_name, headline\n",
        "    FROM headlines\n",
        "    INNER JOIN categories ON (headlines.category_id=categories.category_id)\n",
        "    LIMIT 10\n",
        "\"\"\")\n",
        "results = cursor.fetchall()\n",
        "_ = [print(i) for i in results]"
      ]
    },
    {
      "cell_type": "markdown",
      "metadata": {
        "id": "ZAdziG0qsatl"
      },
      "source": [
        "Our final task is to add to our existing query, now including the `summary` from the *summaries* table.\n",
        "\n",
        "# <img src=\"../images/task.png\" width=20 height=20> Task 3.13\n",
        "\n",
        "Update your query to return the headline, category name, and summary for the first ten headlines in the database.\n"
      ]
    },
    {
      "cell_type": "code",
      "execution_count": null,
      "metadata": {
        "id": "jsL-SS_nsatl",
        "outputId": "1b0ad1e9-5e3d-405f-f0a3-64f50d04e865"
      },
      "outputs": [
        {
          "name": "stdout",
          "output_type": "stream",
          "text": [
            "('CRIME', 'There Were 2 Mass Shootings In Texas Last Week, But Only 1 On TV', 'She left her husband. He killed their children. Just another day in America.')\n",
            "('ENTERTAINMENT', \"Will Smith Joins Diplo And Nicky Jam For The 2018 World Cup's Official Song\", 'Of course it has a song.')\n",
            "('ENTERTAINMENT', 'Hugh Grant Marries For The First Time At Age 57', 'The actor and his longtime girlfriend Anna Eberstein tied the knot in a civil ceremony.')\n",
            "('ENTERTAINMENT', \"Jim Carrey Blasts 'Castrato' Adam Schiff And Democrats In New Artwork\", 'The actor gives Dems an ass-kicking for not fighting hard enough against Donald Trump.')\n",
            "('ENTERTAINMENT', 'Julianna Margulies Uses Donald Trump Poop Bags To Pick Up After Her Dog', 'The \"Dietland\" actress said using the bags is a \"really cathartic, therapeutic moment.\"')\n",
            "('ENTERTAINMENT', \"Morgan Freeman 'Devastated' That Sexual Harassment Claims Could Undermine Legacy\", '\"It is not right to equate horrific incidents of sexual assault with misplaced compliments or humor,\" he said in a statement.')\n",
            "('ENTERTAINMENT', \"Donald Trump Is Lovin' New McDonald's Jingle In 'Tonight Show' Bit\", \"It's catchy, all right.\")\n",
            "('ENTERTAINMENT', 'What To Watch On Amazon Prime That’s New This Week', \"There's a great mini-series joining this week.\")\n",
            "('ENTERTAINMENT', \"Mike Myers Reveals He'd 'Like To' Do A Fourth Austin Powers Film\", 'Myer\\'s kids may be pushing for a new \"Powers\" film more than anyone.')\n",
            "('ENTERTAINMENT', 'What To Watch On Hulu That’s New This Week', \"You're getting a recent Academy Award-winning movie.\")\n"
          ]
        }
      ],
      "source": [
        "cursor = db.cursor()\n",
        "cursor.execute(\"\"\"\n",
        "SELECT category_name, headline, summary\n",
        "    FROM headlines\n",
        "    INNER JOIN categories ON (headlines.category_id=categories.category_id)\n",
        "    INNER JOIN summaries ON (headlines.summary_id=summaries.summary_id)\n",
        "    LIMIT 10\n",
        "\"\"\")\n",
        "results = cursor.fetchall()\n",
        "_ = [print(i) for i in results]"
      ]
    }
  ],
  "metadata": {
    "kernelspec": {
      "display_name": "Python 3 (ipykernel)",
      "language": "python",
      "name": "python3"
    },
    "language_info": {
      "codemirror_mode": {
        "name": "ipython",
        "version": 3
      },
      "file_extension": ".py",
      "mimetype": "text/x-python",
      "name": "python",
      "nbconvert_exporter": "python",
      "pygments_lexer": "ipython3",
      "version": "3.9.7"
    },
    "colab": {
      "provenance": [],
      "include_colab_link": true
    }
  },
  "nbformat": 4,
  "nbformat_minor": 0
}
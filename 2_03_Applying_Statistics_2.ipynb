{
  "cells": [
    {
      "cell_type": "markdown",
      "metadata": {
        "id": "view-in-github",
        "colab_type": "text"
      },
      "source": [
        "<a href=\"https://colab.research.google.com/github/WhiteHum/Application-security/blob/main/2_03_Applying_Statistics_2.ipynb\" target=\"_parent\"><img src=\"https://colab.research.google.com/assets/colab-badge.svg\" alt=\"Open In Colab\"/></a>"
      ]
    },
    {
      "cell_type": "raw",
      "metadata": {
        "id": "-T-d92LwJUmq"
      },
      "source": [
        "\\pagenumbering{gobble}"
      ]
    },
    {
      "cell_type": "markdown",
      "metadata": {
        "id": "DWSzx5hpJUms"
      },
      "source": [
        "# Applying Statistics\n",
        "\n",
        "## Overview\n",
        "\n",
        "This lab will continue to build foundational understandings of descriptive statistics, focusing on the various approaches toward measuring deviation.  Much of this lab will focus on the ability to identify encrypted data based solely on descriptive statistics.\n",
        "\n",
        "## Goals\n",
        "\n",
        "By the end of this lab, you should be able to:\n",
        "\n",
        " * Explain the differences between variance, standard deviation, and median absolute deviation\n",
        " * Write code that will produce the variance for a dataset\n",
        " * Write code that will produce the standard deviation for a dataset\n",
        " * Write code that will produce the median absolute deviation for a dataset\n",
        " * Write code that can evaluate the likelihood that a specific set of data represents encrypted information\n",
        " \n",
        "## Estimated Time: 30 - 45 minutes\n",
        "\n",
        "\n",
        "\n",
        "\n",
        "# <img src=\"../images/task.png\" width=20 height=20> Task 3.1\n",
        "\n",
        "Please use the next cell to import both the Pandas and Numpy libraries.  Import Numpy as np and Pandas as pd."
      ]
    },
    {
      "cell_type": "code",
      "execution_count": null,
      "metadata": {
        "id": "7aKuSQIKJUmt"
      },
      "outputs": [],
      "source": [
        "import numpy as np\n",
        "import pandas as pd"
      ]
    },
    {
      "cell_type": "markdown",
      "metadata": {
        "id": "kXOMVWRCJUmu"
      },
      "source": [
        "In this lab we will work with a set of files of varying types.  All of the files that we will use are located in `../data/files` and each file type is in its own directory.  Let's begin by creating a dictionary that maps file types to the names of the files that are available.\n",
        "\n",
        "# <img src=\"../images/task.png\" width=20 height=20> Task 3.2\n",
        "\n",
        "Using the `os` library, retrieve a list of all of the directory names in the `../data/files` directory.  Store these in a list that represents the types of files that we will be working with."
      ]
    },
    {
      "cell_type": "code",
      "execution_count": null,
      "metadata": {
        "id": "ZAZz3I99JUmu",
        "outputId": "67bd52b0-8357-49ee-f66f-2e11d7f1e75e"
      },
      "outputs": [
        {
          "data": {
            "text/plain": [
              "['Archives',\n",
              " 'JPEG Files',\n",
              " 'SVG Files',\n",
              " 'Text files',\n",
              " 'UNIX Binaries',\n",
              " 'Windows binaries',\n",
              " 'Word docs']"
            ]
          },
          "execution_count": 2,
          "metadata": {},
          "output_type": "execute_result"
        }
      ],
      "source": [
        "import os as os\n",
        "file_types = os.listdir('../data/files/')\n",
        "file_types"
      ]
    },
    {
      "cell_type": "markdown",
      "metadata": {
        "id": "eay6Tm7BJUmv"
      },
      "source": [
        "Now that we have the file types, we are ready to obtain a list of the filenames for each type of file.\n",
        "\n",
        "# <img src=\"../images/task.png\" width=20 height=20> Task 3.3\n",
        "\n",
        "Enumerate the files in each of the directories, assigning the list of files to a dictionary where the key is the file type."
      ]
    },
    {
      "cell_type": "code",
      "execution_count": null,
      "metadata": {
        "id": "3X4te80NJUmv",
        "outputId": "eff6da72-cc27-4c5d-f62c-269596003ae5"
      },
      "outputs": [
        {
          "data": {
            "text/plain": [
              "{'Archives': ['Archive 2.zip',\n",
              "  'Archive 3.zip',\n",
              "  'Archive 4.zip',\n",
              "  'Archive.zip'],\n",
              " 'JPEG Files': ['IMG_4128.JPG',\n",
              "  'IMG_4129.JPG',\n",
              "  'IMG_4132.JPG',\n",
              "  'IMG_4133.JPG',\n",
              "  'IMG_4134.JPG',\n",
              "  'IMG_4135.JPG',\n",
              "  'IMG_4136.JPG'],\n",
              " 'SVG Files': ['SVG 1.svg',\n",
              "  'SVG 10.svg',\n",
              "  'SVG 2.svg',\n",
              "  'SVG 3.svg',\n",
              "  'SVG 4.svg',\n",
              "  'SVG 5.svg',\n",
              "  'SVG 6.svg',\n",
              "  'SVG 7.svg',\n",
              "  'SVG 8.svg',\n",
              "  'SVG 9.svg'],\n",
              " 'Text files': ['First.txt', 'Fourth.txt', 'Second.txt', 'Third.txt'],\n",
              " 'UNIX Binaries': ['bash',\n",
              "  'cat',\n",
              "  'chmod',\n",
              "  'cp',\n",
              "  'csh',\n",
              "  'dash',\n",
              "  'date',\n",
              "  'dd',\n",
              "  'df',\n",
              "  'echo'],\n",
              " 'Windows binaries': ['dd.exe', 'WinSCP.exe'],\n",
              " 'Word docs': ['Doc 1.doc',\n",
              "  'Doc 2.doc',\n",
              "  'Doc 3.doc',\n",
              "  'Doc 4.doc',\n",
              "  'Doc 5.doc']}"
            ]
          },
          "execution_count": 3,
          "metadata": {},
          "output_type": "execute_result"
        }
      ],
      "source": [
        "files = {}\n",
        "for filetype in file_types:\n",
        "    files[filetype] = os.listdir(f'../data/files/{filetype}/')\n",
        "\n",
        "files"
      ]
    },
    {
      "cell_type": "markdown",
      "metadata": {
        "id": "_vQ3Tc-EJUmv"
      },
      "source": [
        "Let's pause and talk about where we are heading.  We are wondering, or theorizing, that the statistical behavior of the bytes in different types of files might be a useful tool for predicting what that file content is.  Our very specific plan is to use statistics to identify encrypted data, but if we can identify other file types, that's an added bonus.\n",
        "\n",
        "Why is this useful and how could it be used?  While we are applying this task to examining files, we can use the technique in different ways.  If we stick with the idea of files, might it be interesting to identify encrypted attachments in email messages?  If we generalize away from files, could it be useful to find encrypted data streams on unusual ports?  Or, alternatively, to find streams that are *not* encrypted?  These are just a few ways that we might use the techniques discussed here.\n",
        "\n",
        "# <img src=\"../images/task.png\" width=20 height=20> Task 3.4\n",
        "\n",
        "Since we are dealing with arbitrary data, it is reasonable to assume that at least some, if not most, of that data is binary.  Python provides the *binascii* library, which has some very useful helper functions for examining binary data.\n",
        "\n",
        "Import the `binascii` library.  When that is done, read the first 32 bytes of every file and use the `hexlify()` covenience method from `binascii` to print these file headers out."
      ]
    },
    {
      "cell_type": "code",
      "execution_count": null,
      "metadata": {
        "id": "-5QcnyHrJUmw",
        "outputId": "ff84e551-aa92-45f2-d5b6-53bb674f5bbf"
      },
      "outputs": [
        {
          "name": "stdout",
          "output_type": "stream",
          "text": [
            "b'504b0304140008000800e05c574e00000000000000007b220000210020006963'  --  Archive 2.zip\n",
            "b'504b0304140008000800ab80154f0000000000000000f75d2b000c002000494d'  --  Archive 3.zip\n",
            "b'504b0304140008000800538d634e0000000000000000a50600001a0020006e6f'  --  Archive 4.zip\n",
            "b'504b0304140008000800259a254e0000000000000000001204000e0020003039'  --  Archive.zip\n",
            "b'ffd8ffe15ecc45786966000049492a00080000000c000f010200060000009e00'  --  IMG_4128.JPG\n",
            "b'ffd8ffe164f045786966000049492a00080000000c000f010200060000009e00'  --  IMG_4129.JPG\n",
            "b'ffd8ffe1681c45786966000049492a00080000000c000f010200060000009e00'  --  IMG_4132.JPG\n",
            "b'ffd8ffe15f5445786966000049492a00080000000c000f010200060000009e00'  --  IMG_4133.JPG\n",
            "b'ffd8ffe1622445786966000049492a00080000000c000f010200060000009e00'  --  IMG_4134.JPG\n",
            "b'ffd8ffe1649c45786966000049492a00080000000c000f010200060000009e00'  --  IMG_4135.JPG\n",
            "b'ffd8ffe16a2445786966000049492a00080000000c000f010200060000009e00'  --  IMG_4136.JPG\n",
            "b'3c3f786d6c2076657273696f6e3d22312e3022203f3e3c21444f435459504520'  --  SVG 1.svg\n",
            "b'3c73766720786d6c6e733d22687474703a2f2f7777772e77332e6f72672f3230'  --  SVG 10.svg\n",
            "b'3c73766720786d6c6e733d22687474703a2f2f7777772e77332e6f72672f3230'  --  SVG 2.svg\n",
            "b'3c73766720786d6c6e733d22687474703a2f2f7777772e77332e6f72672f3230'  --  SVG 3.svg\n",
            "b'3c73766720786d6c6e733d22687474703a2f2f7777772e77332e6f72672f3230'  --  SVG 4.svg\n",
            "b'3c73766720786d6c6e733d22687474703a2f2f7777772e77332e6f72672f3230'  --  SVG 5.svg\n",
            "b'3c73766720786d6c6e733d22687474703a2f2f7777772e77332e6f72672f3230'  --  SVG 6.svg\n",
            "b'3c73766720786d6c6e733d22687474703a2f2f7777772e77332e6f72672f3230'  --  SVG 7.svg\n",
            "b'3c73766720786d6c6e733d22687474703a2f2f7777772e77332e6f72672f3230'  --  SVG 8.svg\n",
            "b'3c73766720786d6c6e733d22687474703a2f2f7777772e77332e6f72672f3230'  --  SVG 9.svg\n",
            "b'4e65777367726f7570733a20616c742e63756c742d6d6f766965730d0a46726f'  --  First.txt\n",
            "b'ff010d0a0d0a3139383720284329205370696e205075626c69636174696f6e73'  --  Fourth.txt\n",
            "b'0d0a457069736f646520494949206973207468652042616e65206f6620746865'  --  Second.txt\n",
            "b'41727469636c65203136363131206f66207265632e617274732e6d6f76696573'  --  Third.txt\n",
            "b'cffaedfe07000001030000000200000012000000300700008500200000000000'  --  bash\n",
            "b'cffaedfe07000001030000000200000011000000580600008500200000000000'  --  cat\n",
            "b'cffaedfe07000001030000000200000011000000580600008500200000000000'  --  chmod\n",
            "b'cffaedfe07000001030000000200000011000000580600008500200000000000'  --  cp\n",
            "b'cffaedfe07000001030000000200000013000000680700008500200000000000'  --  csh\n",
            "b'cffaedfe07000001030000000200000011000000f80600008500200000000000'  --  dash\n",
            "b'cffaedfe07000001030000000200000011000000580600008500200000000000'  --  date\n",
            "b'cffaedfe07000001030000000200000011000000a80600008500200000000000'  --  dd\n",
            "b'cffaedfe07000001030000000200000012000000880600008500200000000000'  --  df\n",
            "b'cffaedfe07000001030000000200000011000000b80500008500200000000000'  --  echo\n",
            "b'4d5a50000200000004000f00ffff0000b80000000000000040001a0000000000'  --  dd.exe\n",
            "b'4d5a50000200000004000f00ffff0000b80000000000000040001a000000fb70'  --  WinSCP.exe\n",
            "b'd0cf11e0a1b11ae1000000000000000000000000000000003e000300feff0900'  --  Doc 1.doc\n",
            "b'd0cf11e0a1b11ae1000000000000000000000000000000003e000300feff0900'  --  Doc 2.doc\n",
            "b'd0cf11e0a1b11ae1000000000000000000000000000000003e000300feff0900'  --  Doc 3.doc\n",
            "b'd0cf11e0a1b11ae1000000000000000000000000000000003e000300feff0900'  --  Doc 4.doc\n",
            "b'd0cf11e0a1b11ae1000000000000000000000000000000003e000300feff0900'  --  Doc 5.doc\n"
          ]
        }
      ],
      "source": [
        "import binascii\n",
        "for filetype in files:\n",
        "    for filename in files[filetype]:\n",
        "        with open(f'../data/files/{filetype}/{filename}', 'rb') as f:\n",
        "            chunk = f.read(32)\n",
        "            print(f'{binascii.hexlify(chunk)}  --  {filename}')\n",
        "        "
      ]
    },
    {
      "cell_type": "markdown",
      "metadata": {
        "id": "x4uuN8DuJUmw"
      },
      "source": [
        "No doubt when you look at these examples you can see obvious patterns.  If you weren't already aware of it, nearly all file types, especially binary file types, have some kind of *file header.*  As this name implies, it is found at the head, or beginning, of the file.  It contains various data structures that are specific to the file type in question.  For example, if we are looking at an image file, perhaps it contains a version number for the image file format, a bit depth, the overall dimensions of the image, compression information if the image is compressed, etc.\n",
        "\n",
        "While file header information can be used to determine file type, it might be interesting to be able to take a random sample of a hunk of a file or packet stream and make a good guess as to what type of data it is *without* seeing the header.  This can allow us to sample parts of data streams and categorize them or to identify files that have unexpected data within them that doesn't fit the normal behavior for the file type based on the header.\n",
        "\n",
        "## Histograms\n",
        "\n",
        "When we return to the lecture portion of the course, we will begin by discussing the notion of a histogram in some depth.  A histogram is typically rendered as a bar chart that seeks to visualize how our values cluster.  Imagine we had random values between zero and one hundred.  How frequently does each random number occur?  A histogram is the type of diagram used to visualize the answer to this question.\n",
        "\n",
        "While we can create a histogram showing the frequency with which every value occurs, more typically the values are grouped together into \"bins,\" which are ranges of values.  For example, the values between zero and nine, ten and nineteen, twenty and twentynine, etc.\n",
        "\n",
        "### Important Note!\n",
        "\n",
        "When plotting a histogram, we must defined the number of bins.  With this in mind, we need to be mindful of how the bins are formed.  If we define the number of bins (using an integer), then the bins will all be equal-width.  If we define the bins as a range of values, however, the right-most bin (highest value in the range) may not behave as you expect.\n",
        "\n",
        "For example, if we were to use the `bins` keyword argument to specify a range of bins such as `range(0,4)`, the bins will effectively use the list of values `[0, 1, 2, 3]`.  This means that the first bin will contain all values from $[0,1)$, where the square bracket indicates that the range is inclusive and the parenthesis indicates that it is exclusive.  Continuing from this point, the bins would have the ranges $[1, 2), [2, 3]$.  Notice the difference in the final bin.  The value three does not appear in its own bin!  Instead, it is grouped with the bin to the left!\n",
        "\n",
        "Imagine that you wanted to generated a histogram visualizing the frequency with which each byte value appears in a file.  You could do this using `bins=256` to force 256 bins to be generated.  However, you may discover that the automatically generated bins do not quite break on byte boundaries!  As a result, you might want to force it to use `bins=range(0,257)`.  Notice that we use `257` rather than `256`.  This causes the final bin to be $[255, 256]$.  If we were to use `range(0,256)`, our final bin would be $[254, 255]$, which would include 254 and 255 bytes in the same bin, which is not what we want.\n",
        "\n",
        "You may want to bear this in mind when plotting histograms below.\n",
        "\n",
        "# <img src=\"../images/task.png\" width=20 height=20> Task 3.5\n",
        "\n",
        "Let's visualize our files.  Create a function that takes a filename as an argument and produces a histogram of the bytes within that file.  Verify that the function works by passing in a file from our sample data.\n",
        "\n",
        "When generating a histogram, the default is to generate a histogram with only 10 bins.  We would like to see the frequency of bytes granularly, so set the `bins` keyword argument to be equal to the range of values from 0 to 255."
      ]
    },
    {
      "cell_type": "code",
      "execution_count": null,
      "metadata": {
        "id": "TWNv1Dz5JUmw",
        "outputId": "a5c9bd1f-96bf-4180-c430-c4ca321d0764"
      },
      "outputs": [
        {
          "data": {
            "image/png": "[encoded data removed]",
            "text/plain": [
              "<Figure size 864x288 with 1 Axes>"
            ]
          },
          "metadata": {
            "needs_background": "light"
          },
          "output_type": "display_data"
        }
      ],
      "source": [
        "import matplotlib.pyplot as plt\n",
        "\n",
        "def plot_file(filename):\n",
        "    with open(filename, 'rb') as f:\n",
        "        data = bytearray(f.read())\n",
        "    plt.figure(figsize=(12,4))\n",
        "    plt.hist(data, bins=range(0,257))\n",
        "    plt.title(f'Histogram of {filename}')\n",
        "    plt.show()\n",
        "\n",
        "plot_file(f'../data/files/{file_types[0]}/{files[file_types[0]][0]}')"
      ]
    },
    {
      "cell_type": "markdown",
      "metadata": {
        "id": "N7D8e9dDJUmx"
      },
      "source": [
        "Let's generalize this a bit so that we can plot all of our files in one large plot.\n",
        "\n",
        "# <img src=\"../images/task.png\" width=20 height=20> Task 3.6\n",
        "\n",
        "Rewrite your plotting function so that it can accept an axes value to use for the plot.  When you have it working, plot all of the files in a grid that is five plots wide and as high as needed."
      ]
    },
    {
      "cell_type": "code",
      "execution_count": null,
      "metadata": {
        "id": "QAYUvrs-JUmx",
        "outputId": "ea6c175f-3629-4cfe-d4e8-4ebd3374fd03"
      },
      "outputs": [
        {
          "name": "stdout",
          "output_type": "stream",
          "text": [
            "42 subplots required\n",
            "Creating 9x5 grid\n"
          ]
        },
        {
          "data": {
            "image/png": "[encoded data removed]",
            "text/plain": [
              "<Figure size 1080x1800 with 45 Axes>"
            ]
          },
          "metadata": {
            "needs_background": "light"
          },
          "output_type": "display_data"
        }
      ],
      "source": [
        "def plot_file(filename, axes=plt):\n",
        "    with open(filename, 'rb') as f:\n",
        "        data = bytearray(f.read())\n",
        "    axes.hist(data, bins=range(0,257))\n",
        "    axes.set_title(filename)\n",
        "    axes.xaxis.set_visible(False)\n",
        "    axes.yaxis.set_visible(False)\n",
        "    \n",
        "plt.rcParams[\"figure.figsize\"] = (15, 25) # (w, h)\n",
        "\n",
        "total_subplots = 0\n",
        "for filetype in files:\n",
        "    total_subplots += len(files[filetype])\n",
        "\n",
        "print(f'{total_subplots} subplots required')\n",
        "columns = 5\n",
        "rows = int((total_subplots / columns) + 1)\n",
        "print(f'Creating {rows}x{columns} grid')\n",
        "figure, axes = plt.subplots(rows, columns)\n",
        "figure.tight_layout()\n",
        "plot_number = 0\n",
        "for filetype in files:\n",
        "    for filename in files[filetype]:\n",
        "        plot_file(f'../data/files/{filetype}/{filename}', axes=axes[int(plot_number / columns), (plot_number % columns)] )\n",
        "        plot_number += 1\n",
        "\n",
        "plt.show()"
      ]
    },
    {
      "cell_type": "markdown",
      "metadata": {
        "id": "pLbp2wukJUmx"
      },
      "source": [
        "Visualizations are great... As humans, they really resonate with us.  Let's look at the data from a more mathematical perspective.\n",
        "\n",
        "# <img src=\"../images/task.png\" width=20 height=20> Task 3.7\n",
        "\n",
        "Calculate and print the mean and the standard deviation for each file.  Then generate the mean and standard deviation for each file *type.*  Print these values and the comparison."
      ]
    },
    {
      "cell_type": "code",
      "execution_count": null,
      "metadata": {
        "id": "Kd_vmTc_JUmx",
        "outputId": "5e0d5402-3fdb-470b-8a7b-f4626fe41d45"
      },
      "outputs": [
        {
          "name": "stdout",
          "output_type": "stream",
          "text": [
            "Archives\n",
            "\tArchive 2.zip:\t130.91492549606775\t73.66183170671034\n",
            "\tArchive 3.zip:\t127.60347840180562\t73.48350883144164\n",
            "\tArchive 4.zip:\t119.16954757252367\t75.82767883926647\n",
            "\tArchive.zip:\t130.80703596690176\t73.62082396617552\n",
            "JPEG Files\n",
            "\tIMG_4128.JPG:\t130.81544721877486\t73.8796428820107\n",
            "\tIMG_4129.JPG:\t131.79432395949533\t73.99797556877964\n",
            "\tIMG_4132.JPG:\t130.85781242014036\t73.99060747247252\n",
            "\tIMG_4133.JPG:\t126.14240194672747\t73.70649871804544\n",
            "\tIMG_4134.JPG:\t126.58287331173675\t73.73456358687031\n",
            "\tIMG_4135.JPG:\t127.81080246050026\t73.94733292647251\n",
            "\tIMG_4136.JPG:\t127.54657419592903\t73.47391431031421\n",
            "SVG Files\n",
            "\tSVG 1.svg:\t55.745779993202675\t19.16017856233266\n",
            "\tSVG 10.svg:\t63.063985374771484\t26.169883765356904\n",
            "\tSVG 2.svg:\t62.40623162845385\t26.52843686202762\n",
            "\tSVG 3.svg:\t58.62232905982906\t22.67938918314996\n",
            "\tSVG 4.svg:\t61.095327102803736\t24.551160398026102\n",
            "\tSVG 5.svg:\t56.826486817903124\t21.95515321675025\n",
            "\tSVG 6.svg:\t62.70463078848561\t26.767910216419516\n",
            "\tSVG 7.svg:\t63.59497021839841\t27.074597560688435\n",
            "\tSVG 8.svg:\t53.65788235294118\t16.452125872106905\n",
            "\tSVG 9.svg:\t63.81077348066298\t27.58608014259677\n",
            "Text files\n",
            "\tFirst.txt:\t82.06709039548022\t35.283848021676164\n",
            "\tFourth.txt:\t85.61106242087837\t34.71060972430407\n",
            "\tSecond.txt:\t89.45067302777305\t33.15589700992708\n",
            "\tThird.txt:\t85.91734613633541\t34.4199438324836\n",
            "UNIX Binaries\n",
            "\tbash:\t91.15302692021454\t83.51393539555248\n",
            "\tcat:\t22.890230635335072\t53.961130507096506\n",
            "\tchmod:\t40.22744583615437\t67.55918550412908\n",
            "\tcp:\t38.17725681302044\t67.31954612916385\n",
            "\tcsh:\t77.02289280425519\t79.44555974376296\n",
            "\tdash:\t73.40468930427252\t83.79309287846569\n",
            "\tdate:\t36.27424054260604\t65.96283045271639\n",
            "\tdd:\t36.81857269503546\t64.47092794775851\n",
            "\tdf:\t32.66054995617879\t62.68880178467273\n",
            "\techo:\t18.801976714431934\t48.554317207438125\n",
            "Windows binaries\n",
            "\tdd.exe:\t108.97129131394092\t84.73565315770338\n",
            "\tWinSCP.exe:\t111.4811782228253\t80.24037409692231\n",
            "Word docs\n",
            "\tDoc 1.doc:\t52.49766074856046\t65.66497852673508\n",
            "\tDoc 2.doc:\t126.72520949194909\t76.10760975965596\n",
            "\tDoc 3.doc:\t71.78738559428285\t74.39716847062108\n",
            "\tDoc 4.doc:\t121.31111356243079\t76.7572349279728\n",
            "\tDoc 5.doc:\t129.3464488378599\t83.45159496137222\n",
            "Filetype\tMean\tStandard Deviation\n",
            "Archives\t127.1237468593247\t74.14846083589849\n",
            "JPEG Files\t128.79289078761485\t73.81864792356647\n",
            "SVG Files\t60.15283968174522\t23.892491577945513\n",
            "Text files\t85.76154299511677\t34.39257464709773\n",
            "UNIX Binaries\t46.74308822215043\t67.72693275507564\n",
            "Windows binaries\t110.22623476838311\t82.48801362731285\n",
            "Word docs\t100.33356364701662\t75.27571732927143\n"
          ]
        }
      ],
      "source": [
        "def get_file_stats(filename):\n",
        "    with open(filename, 'rb') as f:\n",
        "        file_bytes = bytearray(f.read())\n",
        "    data = np.frombuffer(file_bytes, np.uint8)\n",
        "    return(np.mean(data), np.std(data))\n",
        "\n",
        "\n",
        "filetype_mean = {}\n",
        "filetype_std = {}\n",
        "for filetype in files:\n",
        "    print(filetype)\n",
        "    for filename in files[filetype]:\n",
        "        (mean,std) = get_file_stats(f'../data/files/{filetype}/{filename}')\n",
        "        print(f'\\t{filename}:\\t{mean}\\t{std}')\n",
        "        filetype_mean[filetype] = np.append(filetype_mean[filetype], np.array(mean)) if filetype in filetype_mean.keys() else np.array(mean)\n",
        "        filetype_std[filetype] = np.append(filetype_std[filetype], np.array(std)) if filetype in filetype_std.keys() else np.array(std)\n",
        "\n",
        "print(f'Filetype\\tMean\\tStandard Deviation')\n",
        "for filetype in files:\n",
        "    print(f'{filetype}\\t{filetype_mean[filetype].mean()}\\t{filetype_std[filetype].mean()}')"
      ]
    },
    {
      "cell_type": "markdown",
      "metadata": {
        "id": "ZIZhkwBZJUmx"
      },
      "source": [
        "More than anything else that we have done, ths last task should make you very conscious of the fact that plotting the data in a visualization is *very slow* compared to the raw processing of the data!  Still, we as humans like pictures, so we will continue to plot a number of things throughout the course.\n",
        "\n",
        "Another \"Aha!\" moment should have happened when you look at the standard deviations and the averages.  For example, compare the file by file and the overall means and standard deviations for the JPEG and Zip files.  They are suspiciously similar!  Would it surprise you to discover that, while JPEG doesn't use Zip, JPEG produces a compressed image?\n",
        "\n",
        "The Windows and UNIX binaries are also interesting!  Here, the fact that they are so different is what is interesting.  Given additional research using many more sample binaries, could it turn out that we can trivially distinguish one from the other using the mean and the standard deviation?\n",
        "\n",
        "We'd like to get back to our primary hypothesis, however.  We were most interested in how unencrypted files differ from encrypted files.  Let's find out!\n",
        "\n",
        "To do so, we need a utility function that can encrypt our data for us.  Encrypting the data turns out to be pretty simple:\n",
        "\n",
        "```\n",
        "from cryptography.hazmat.primitives.ciphers import Cipher, algorithms, modes\n",
        "\n",
        "key = os.urandom(32)\n",
        "iv = os.urandom(16)\n",
        "aes_cipher = Cipher(algorithms.AES(key), modes.GCM(iv))\n",
        "encryptor = aes_cipher.encryptor()\n",
        "ciphertext = encryptor.update(file_bytes) + encryptor.finalize()\n",
        "```\n",
        "\n",
        "# <img src=\"../images/task.png\" width=20 height=20> Task 3.8\n",
        "\n",
        "Using the above code as a template, build a second function that will read a file, encrypt the data, and then produce the mean and standard deviation of the resulting bytes as a returned tuple."
      ]
    },
    {
      "cell_type": "code",
      "execution_count": null,
      "metadata": {
        "id": "q0h5Yr0oJUmx",
        "outputId": "6644d2c1-0d0c-45bd-db9c-39ef34e1c122"
      },
      "outputs": [
        {
          "data": {
            "text/plain": [
              "(127.4757824069759, 73.92717802742733)"
            ]
          },
          "execution_count": 8,
          "metadata": {},
          "output_type": "execute_result"
        }
      ],
      "source": [
        "from cryptography.hazmat.primitives.ciphers import Cipher, algorithms, modes\n",
        "\n",
        "def encrypt_and_stats(filename):\n",
        "    with open(filename, 'rb') as f:\n",
        "        file_bytes = bytearray(f.read())\n",
        "    key = os.urandom(32)\n",
        "    iv =os.urandom(16)\n",
        "    aes_cipher = Cipher(algorithms.AES(key), modes.GCM(iv))\n",
        "    encryptor = aes_cipher.encryptor()\n",
        "    ciphertext = encryptor.update(file_bytes) + encryptor.finalize()\n",
        "    data = np.frombuffer(ciphertext, np.uint8)\n",
        "    return(np.mean(data), np.std(data))\n",
        "\n",
        "encrypt_and_stats('../data/files/Archives/Archive.zip')"
      ]
    },
    {
      "cell_type": "markdown",
      "metadata": {
        "id": "hIvqBIeuJUmy"
      },
      "source": [
        "Now that we have that working, let's compute and print all of the means and standard deviations for all of the files and then the filetypes.\n",
        "\n",
        "# <img src=\"../images/task.png\" width=20 height=20> Task 3.9\n",
        "\n",
        "Print a table that shows each filename, encrypted mean, and encrypted standard deviation.  Following this, print a table showing the average encrypted mean and the average encrypted standard deviation."
      ]
    },
    {
      "cell_type": "code",
      "execution_count": null,
      "metadata": {
        "id": "LF91EkFKJUmy",
        "outputId": "c2b4c845-9a22-4642-bd89-12ddd13fc8b9"
      },
      "outputs": [
        {
          "name": "stdout",
          "output_type": "stream",
          "text": [
            "Archives\n",
            "\tArchive 2.zip:\t127.53326591247874\t73.8840065142557\n",
            "\tArchive 3.zip:\t127.5328556326745\t73.86531264072832\n",
            "\tArchive 4.zip:\t127.2074252217045\t74.07209628224912\n",
            "\tArchive.zip:\t127.4618104099999\t73.86564252120259\n",
            "JPEG Files\n",
            "\tIMG_4128.JPG:\t127.50813279122609\t73.89638852195435\n",
            "\tIMG_4129.JPG:\t127.46565619634119\t73.91971905547028\n",
            "\tIMG_4132.JPG:\t127.52891615583354\t73.93213798033213\n",
            "\tIMG_4133.JPG:\t127.50528710606196\t73.88413230223915\n",
            "\tIMG_4134.JPG:\t127.5204222511814\t73.89142573957375\n",
            "\tIMG_4135.JPG:\t127.41350804639303\t73.89550441979192\n",
            "\tIMG_4136.JPG:\t127.54801997532056\t73.90147018407993\n",
            "SVG Files\n",
            "\tSVG 1.svg:\t128.3104112382463\t74.10354198837122\n",
            "\tSVG 10.svg:\t126.80329067641682\t74.25560423733856\n",
            "\tSVG 2.svg:\t127.94473838918283\t74.5246539600101\n",
            "\tSVG 3.svg:\t127.19791666666667\t72.85592038090392\n",
            "\tSVG 4.svg:\t127.29753610875106\t73.94929491366571\n",
            "\tSVG 5.svg:\t126.5009196811772\t74.34819463679912\n",
            "\tSVG 6.svg:\t127.33166458072591\t72.91592625403925\n",
            "\tSVG 7.svg:\t130.17736598279285\t74.15832806494201\n",
            "\tSVG 8.svg:\t126.37254901960785\t72.89261529188492\n",
            "\tSVG 9.svg:\t128.3777624309392\t72.35718627781908\n",
            "Text files\n",
            "\tFirst.txt:\t126.9980831315577\t74.00882963148881\n",
            "\tFourth.txt:\t127.6631122796767\t74.12098649179627\n",
            "\tSecond.txt:\t127.51899812574544\t74.3526605748306\n",
            "\tThird.txt:\t127.67298538967758\t73.94104259895289\n",
            "UNIX Binaries\n",
            "\tbash:\t127.55372334282855\t73.9034132719979\n",
            "\tcat:\t127.4060868146214\t73.80042635148438\n",
            "\tchmod:\t127.49085985104942\t73.70328697031657\n",
            "\tcp:\t127.0040452308857\t73.46139438182344\n",
            "\tcsh:\t127.37691528906888\t73.87146682324737\n",
            "\tdash:\t127.76032043879907\t73.85166607560913\n",
            "\tdate:\t127.49056648834544\t73.6793881107138\n",
            "\tdd:\t127.82222960992908\t74.04538949396192\n",
            "\tdf:\t128.05332493426818\t73.85217323750699\n",
            "\techo:\t127.83796059365405\t73.95559469596371\n",
            "Windows binaries\n",
            "\tdd.exe:\t127.59178843209654\t73.96374768119364\n",
            "\tWinSCP.exe:\t127.49279501830428\t73.90249619214349\n",
            "Word docs\n",
            "\tDoc 1.doc:\t127.91035118761997\t73.93324514791999\n",
            "\tDoc 2.doc:\t127.48623417046458\t73.91309914510762\n",
            "\tDoc 3.doc:\t127.53168098044132\t73.91842958091817\n",
            "\tDoc 4.doc:\t127.42432127284053\t73.85386354226512\n",
            "\tDoc 5.doc:\t127.4749203249758\t73.91391054300918\n",
            "Filetype\tMean\tStandard Deviation\n",
            "Archives\t127.43383929421441\t73.92176448960893\n",
            "JPEG Files\t127.4985632174797\t73.90296831477735\n",
            "SVG Files\t127.63141547745067\t73.63612660057738\n",
            "Text files\t127.46329473166436\t74.10587982426713\n",
            "UNIX Binaries\t127.57960325934498\t73.81241994126252\n",
            "Windows binaries\t127.54229172520041\t73.93312193666856\n",
            "Word docs\t127.56550158726843\t73.90650959184401\n"
          ]
        }
      ],
      "source": [
        "filetype_mean = {}\n",
        "filetype_std = {}\n",
        "for filetype in files:\n",
        "    print(filetype)\n",
        "    for filename in files[filetype]:\n",
        "        (mean,std) = encrypt_and_stats(f'../data/files/{filetype}/{filename}')\n",
        "        print(f'\\t{filename}:\\t{mean}\\t{std}')\n",
        "        filetype_mean[filetype] = np.append(filetype_mean[filetype], np.array(mean)) if filetype in filetype_mean.keys() else np.array(mean)\n",
        "        filetype_std[filetype] = np.append(filetype_std[filetype], np.array(std)) if filetype in filetype_std.keys() else np.array(std)\n",
        "\n",
        "print(f'Filetype\\tMean\\tStandard Deviation')\n",
        "for filetype in files:\n",
        "    print(f'{filetype}\\t{filetype_mean[filetype].mean()}\\t{filetype_std[filetype].mean()}')"
      ]
    },
    {
      "cell_type": "markdown",
      "metadata": {
        "id": "j3ImCcU1JUmy"
      },
      "source": [
        "The output is *very* interesting!  Notice that the average for every filetype is nearly identical, as is the standard deviation.  Think about this for just a moment.  *This is exactly what we would expect.*  If encrypting different data results in differing statistics, it would provide a way to reveal information about the original data without the key.\n",
        "\n",
        "This said, there *is* something a little bit odd.  \n",
        "\n",
        "# <img src=\"../images/task.png\" width=20 height=20> Task 3.10\n",
        "\n",
        "Please plot a histogram of the encrypted bytes from a single file."
      ]
    },
    {
      "cell_type": "code",
      "execution_count": null,
      "metadata": {
        "id": "iEAxHF-bJUmy"
      },
      "outputs": [],
      "source": [
        "def encrypt_plot_and_stats(filename):\n",
        "    with open(filename, 'rb') as f:\n",
        "        file_bytes = bytearray(f.read())\n",
        "    key = os.urandom(32)\n",
        "    iv =os.urandom(16)\n",
        "    aes_cipher = Cipher(algorithms.AES(key), modes.GCM(iv))\n",
        "    encryptor = aes_cipher.encryptor()\n",
        "    ciphertext = encryptor.update(file_bytes) + encryptor.finalize()\n",
        "    data = np.frombuffer(ciphertext, np.uint8)\n",
        "    plt.figure(figsize=(10,5))\n",
        "    plt.hist(data, bins=range(0,257))\n",
        "    plt.show()\n",
        "    return(np.mean(data), np.std(data))\n",
        "\n",
        "encrypt_plot_and_stats('../data/files/Archives/Archive 2.zip')"
      ]
    },
    {
      "cell_type": "markdown",
      "metadata": {
        "id": "X7iS7mZFJUmy"
      },
      "source": [
        "Now *that's* interesting!  It turns out that the AES algorithm does produce a pretty flat histogram, but there are nearly two times the average bytes that contain 255.  It is crystal clear that there is very little variance in the frequency with which each value appears.\n",
        "\n",
        "That last statement should give you pause.  We just said that it seems that there is *very little* variance in the frequency of each byte.  However, the standard deviation, effectively the square root of the variance, is 73.89.  That doesn't seem *minimal.*  What's happening?\n",
        "\n",
        "The standard deviation what we have calculated so far is for *the data overall.*  A more interesting statistic might be described using the words in the paragraphs just above; the standard deviation of the *frequency with which each value appears.*  In other words, rather than asking, \"What is the standard deviation of the byte values?\" which is what we have calculated so far, we are instead standing back further asking about the frequency with which each appears.\n",
        "\n",
        "# <img src=\"../images/task.png\" width=20 height=20> Task 3.11\n",
        "\n",
        "Write some Python code to determine the frequency with which each byte appears in our encrypted data.  Then generate the standard deviation of *this* data and think about it.  "
      ]
    },
    {
      "cell_type": "code",
      "execution_count": null,
      "metadata": {
        "id": "TCqpZpLgJUmy"
      },
      "outputs": [],
      "source": [
        "def encrypt_plot_and_stats(filename):\n",
        "    with open(filename, 'rb') as f:\n",
        "        file_bytes = bytearray(f.read())\n",
        "    key = os.urandom(32)\n",
        "    iv =os.urandom(16)\n",
        "    aes_cipher = Cipher(algorithms.AES(key), modes.GCM(iv))\n",
        "    encryptor = aes_cipher.encryptor()\n",
        "    ciphertext = encryptor.update(file_bytes) + encryptor.finalize()\n",
        "    data = np.frombuffer(ciphertext, np.uint8)\n",
        "    byte_frequencies = []\n",
        "    for i in range(0,256):\n",
        "        byte_frequencies.append(len(data[np.where(data == i)]))\n",
        "    byte_frequencies = np.array(byte_frequencies)\n",
        "    print(byte_frequencies.mean(),byte_frequencies.std())\n",
        "    plt.figure(figsize=(10,5))\n",
        "    plt.hist(data, bins=range(0,257))\n",
        "    plt.show()\n",
        "    print(byte_frequencies.min(), byte_frequencies.max())\n",
        "    return(np.mean(data), np.std(byte_frequencies))\n",
        "\n",
        "encrypt_plot_and_stats('../data/files/Archives/Archive 2.zip')"
      ]
    },
    {
      "cell_type": "markdown",
      "metadata": {
        "id": "-NTBHB2DJUmy"
      },
      "source": [
        "Let's attach one more metric to this.  228 or 229 can *seem* like a very large measure of variation.  What if we consider it as a percentage of the average?  If we encrypt the *Archive 2.zip* file we find that this seemingly large deviation is less than 0.5%!\n",
        "\n",
        "# Conclusion\n",
        "\n",
        "So what can we take away from this exercise?  First, we have definitely proven our hypothesis.  That is, we can *absolutely* identify encrypted data by examining the overall variance of the data relative to the frequency with which any given byte appears in the data.  We also had the opportunity to manipulate the data in a variety of ways, realizing that the straightforward average and standard deviation applied to the data itself was not nearly as interesting as the 2nd or 3rd order application of these functions.\n",
        "\n",
        "What we've learned:\n",
        "\n",
        "* How to manipulate Numpy arrays effectively to filter data\n",
        "* How the theorize, experiment, and evaluate data during the data exploration phase\n",
        "* A better understanding of what variance and standard deviation mean and what they can be used for"
      ]
    },
    {
      "cell_type": "code",
      "execution_count": null,
      "metadata": {
        "id": "cbTnghenJUmz"
      },
      "outputs": [],
      "source": []
    }
  ],
  "metadata": {
    "interpreter": {
      "hash": "4d7614bdf637d1fc2983b827e14453d5114ba077b46521dcfd148d0aaad8999e"
    },
    "kernelspec": {
      "display_name": "Python 3 (ipykernel)",
      "language": "python",
      "name": "python3"
    },
    "language_info": {
      "codemirror_mode": {
        "name": "ipython",
        "version": 3
      },
      "file_extension": ".py",
      "mimetype": "text/x-python",
      "name": "python",
      "nbconvert_exporter": "python",
      "pygments_lexer": "ipython3",
      "version": "3.9.7"
    },
    "colab": {
      "provenance": [],
      "include_colab_link": true
    }
  },
  "nbformat": 4,
  "nbformat_minor": 0
}
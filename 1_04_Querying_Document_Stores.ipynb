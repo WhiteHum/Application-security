{
  "cells": [
    {
      "cell_type": "markdown",
      "metadata": {
        "id": "view-in-github",
        "colab_type": "text"
      },
      "source": [
        "<a href=\"https://colab.research.google.com/github/WhiteHum/Application-security/blob/main/1_04_Querying_Document_Stores.ipynb\" target=\"_parent\"><img src=\"https://colab.research.google.com/assets/colab-badge.svg\" alt=\"Open In Colab\"/></a>"
      ]
    },
    {
      "cell_type": "raw",
      "metadata": {
        "id": "SEzX0Nd7TCT0"
      },
      "source": [
        "\\pagenumbering{gobble}"
      ]
    },
    {
      "cell_type": "markdown",
      "metadata": {
        "id": "cfQVTluvTCT2"
      },
      "source": [
        "# Querying Document Stores\n",
        "\n",
        "## Overview\n",
        "\n",
        "The ability to interact with datastores of various kinds is critical for data science and machine learning applications.  In this lab, we will experiment with a MongoDB document store, learning how to reverse engineer models to the extent needed to query data effectively.\n",
        "\n",
        "## Goals\n",
        "\n",
        "By the end of this lab, you should be able to:\n",
        "\n",
        " * Connect to a MongoDB document store\n",
        " * Perform queries\n",
        " * Understand how to determine the structure of documents\n",
        " * Create abstractions that allow you to easily interact with a MongoDB store\n",
        " \n",
        "## Estimated Time: 30 - 45 minutes\n",
        "\n",
        "Interacting with a MongoDB store using the Mongo command line interface is fairly straightforward, but it is not the most typical way that someone with our role will interact with the server.  Instead, we would have credentials that allow us to remotely interface with the data.  Additionally, since we would often want to perform some transformation or analysis on the data, it makes sense to learn to interact with the database from within a programming environment that allows us to manipulate the data easily.\n",
        "\n",
        "Ultimately, we would like to use the *mongoengine* package to talk to the database.  This requires that we understand the structure of the documents within the data store.  Determining the structure of the data requires that we use a lower-level interface to talk to the data store, at least at first.  We will use *pymongo*.\n",
        "\n",
        "# <img src=\"../images/task.png\" width=20 height=20> Task 4.1\n",
        "\n",
        "The portion of the *pymongo* package that we need to use is the `MongoClient` class.  Please import this from `pymongo`."
      ]
    },
    {
      "cell_type": "code",
      "execution_count": null,
      "metadata": {
        "id": "YM3UuSdgTCT3"
      },
      "outputs": [],
      "source": [
        "from pymongo import MongoClient"
      ]
    },
    {
      "cell_type": "markdown",
      "metadata": {
        "id": "rSFp9kTYTCT4"
      },
      "source": [
        "Our current goal is to determine the names of the databases within the MongoDB server.  To do this, we need to establish a connection to the server.\n",
        "\n",
        "The `MongoClient` class has a convenience function, `list_database_names()`, that can tell us about these databases.  To use it we must instantiate a copy of the `MongoClient` class.\n",
        "\n",
        "The class initializer can accept a MongoDB connection string.  These strings are typically of the form `mongodb://server:27017`.  If we already know the name of the database that we wish to interact with, this can also be passed as a part of the connection string as though it were the path in a URL.\n",
        "\n",
        "# <img src=\"../images/task.png\" width=20 height=20> Task 4.2\n",
        "\n",
        "Create an instance of the `MongoClient` class.  Create and pass a connection string that uses the IP address of your virtual machine running on your workstation.  Once you have successfully connected, list the names of the databases that are available."
      ]
    },
    {
      "cell_type": "code",
      "execution_count": null,
      "metadata": {
        "id": "lQ0Px1J3TCT4",
        "outputId": "d3df8926-31c0-43e7-905c-2a41c782ed17"
      },
      "outputs": [
        {
          "data": {
            "text/plain": [
              "['admin', 'config', 'local', 'scoreserver']"
            ]
          },
          "execution_count": 2,
          "metadata": {},
          "output_type": "execute_result"
        }
      ],
      "source": [
        "vm_address = \"192.168.100.129\" #this must be changed to match your VM address!\n",
        "\n",
        "connection = MongoClient(f'mongodb://{vm_address}:27017')\n",
        "connection.list_database_names()"
      ]
    },
    {
      "cell_type": "markdown",
      "metadata": {
        "id": "S60q4IXGTCT5"
      },
      "source": [
        "For our lab, the database of interest is the *scoreserver* database.  We can reference this database as though it were an attribute of the `MongoClient` instance that we have created.  For example:\n",
        "\n",
        "```\n",
        "connection = MongoClient(f'mongodb://{vm_address}:27017')\n",
        "connection.scoreserver # <- This references the scoreserver database on the MongoDB server\n",
        "```\n",
        "\n",
        "Since we can reference the database in this way, it makes sense to assign this to some shorter variable for easy access.\n",
        "\n",
        "Now that we have identified the databases present and selected the *scoreserver* database, we'd like to know about the different document collections that are available.  We can obtain this list using the `list_collection_names()` convenience function that is available on the database object.\n",
        "\n",
        "# <img src=\"../images/task.png\" width=20 height=20> Task 4.3\n",
        "\n",
        "Create a variable to reference the *scoreserver* database directly.  Then use this variable to obtain a list of the collections stored in the database."
      ]
    },
    {
      "cell_type": "code",
      "execution_count": null,
      "metadata": {
        "id": "GJJEdf-sTCT5",
        "outputId": "42509d43-4d76-4e7a-a758-133b31832fea"
      },
      "outputs": [
        {
          "data": {
            "text/plain": [
              "['eventmodels',\n",
              " 'metadatamodels',\n",
              " 'svgmodels',\n",
              " 'questionmodels',\n",
              " 'levelmodels',\n",
              " 'teammodels',\n",
              " 'usermodels',\n",
              " 'gamemodels',\n",
              " 'sectionmodels']"
            ]
          },
          "execution_count": 3,
          "metadata": {},
          "output_type": "execute_result"
        }
      ],
      "source": [
        "db = connection.scoreserver\n",
        "db.list_collection_names()"
      ]
    },
    {
      "cell_type": "markdown",
      "metadata": {
        "id": "u7plksaXTCT5"
      },
      "source": [
        "We can see that there are several different collections of data available.  Let's work with the *usermodels* collection to start with.\n",
        "\n",
        "A collection can be referenced directly as though we were accessing a dictionary.  For example:\n",
        "\n",
        "```\n",
        "connection = MongoClient(f'mongodb://{vm_address}:27017')\n",
        "db = connection.scoreserver\n",
        "db['usermodels'].find_one()\n",
        "```\n",
        "\n",
        "You can see above how we have referenced the `usermodels` collection as though it were a dictionary key.  For convenience, we might also assign this reference to a variable.\n",
        "\n",
        "# <img src=\"../images/task.png\" width=20 height=20> Task 4.4\n",
        "\n",
        "Create a variable `users` that can be used to access the `usermodels` collection.  Using this variable, use the `find_one()` function to retrieve one record from the database."
      ]
    },
    {
      "cell_type": "code",
      "execution_count": null,
      "metadata": {
        "id": "FgEMDF31TCT5",
        "outputId": "45e53815-777c-4304-c6a5-00bde6ee4b2a"
      },
      "outputs": [
        {
          "data": {
            "text/plain": [
              "{'_id': ObjectId('5a858954fc0efd33e1d6ceef'),\n",
              " 'password': 'REMOVED',\n",
              " 'name': 'jnovak',\n",
              " 'games': [],\n",
              " 'gameArray': ['Migrated'],\n",
              " 'rights': 256,\n",
              " 'sessionId': 'kZkZt9bNxRjeS0fM3bDBYGRFboxWxbrSPj8WzBrJR8WnU5e2',\n",
              " 'newGameArray': [{'gameId': ObjectId('5a8418fc75b9e8f7c23809d4'),\n",
              "   'sessionId': '',\n",
              "   'score': 0,\n",
              "   'hintsTaken': 0,\n",
              "   'pointsLost': 0,\n",
              "   '_id': ObjectId('5b92a2e5d39eab5a96dc63ed'),\n",
              "   'gameData': {'5a8418fc75b9e8f7c23809f7': {'correct': False,\n",
              "     'attempts': 0,\n",
              "     'hintsTaken': 0},\n",
              "    '5a8418fc75b9e8f7c23809f5': {'correct': False,\n",
              "     'attempts': 0,\n",
              "     'hintsTaken': 0},\n",
              "    '5a8418fc75b9e8f7c23809f3': {'correct': False,\n",
              "     'attempts': 0,\n",
              "     'hintsTaken': 0},\n",
              "    '5a8418fc75b9e8f7c23809f0': {'correct': False,\n",
              "     'attempts': 0,\n",
              "     'hintsTaken': 0},\n",
              "    '5a8418fc75b9e8f7c23809ee': {'correct': False,\n",
              "     'attempts': 0,\n",
              "     'hintsTaken': 0},\n",
              "    '5a8418fc75b9e8f7c23809eb': {'correct': False,\n",
              "     'attempts': 0,\n",
              "     'hintsTaken': 0},\n",
              "    '5a8418fc75b9e8f7c23809e8': {'correct': False,\n",
              "     'attempts': 0,\n",
              "     'hintsTaken': 0},\n",
              "    '5a8418fc75b9e8f7c23809e7': {'correct': False,\n",
              "     'attempts': 0,\n",
              "     'hintsTaken': 0},\n",
              "    '5a8418fc75b9e8f7c23809e4': {'correct': False,\n",
              "     'attempts': 0,\n",
              "     'hintsTaken': 0},\n",
              "    '5a8418fc75b9e8f7c23809e2': {'correct': False,\n",
              "     'attempts': 0,\n",
              "     'hintsTaken': 0},\n",
              "    '5a8418fc75b9e8f7c23809e0': {'correct': False,\n",
              "     'attempts': 0,\n",
              "     'hintsTaken': 0},\n",
              "    '5a8418fc75b9e8f7c23809de': {'correct': False,\n",
              "     'attempts': 0,\n",
              "     'hintsTaken': 0},\n",
              "    '5a8418fc75b9e8f7c23809db': {'correct': False,\n",
              "     'attempts': 0,\n",
              "     'hintsTaken': 0},\n",
              "    '5a8418fc75b9e8f7c23809d9': {'correct': False,\n",
              "     'attempts': 0,\n",
              "     'hintsTaken': 0},\n",
              "    '5a8418fc75b9e8f7c23809d8': {'correct': False,\n",
              "     'attempts': 0,\n",
              "     'hintsTaken': 0},\n",
              "    '5a8418fc75b9e8f7c23809d7': {'correct': False,\n",
              "     'attempts': 0,\n",
              "     'hintsTaken': 0}}}],\n",
              " 'updated': datetime.datetime(2018, 9, 7, 16, 10, 13, 26000)}"
            ]
          },
          "execution_count": 4,
          "metadata": {},
          "output_type": "execute_result"
        }
      ],
      "source": [
        "users = db['usermodels']\n",
        "users.find_one()"
      ]
    },
    {
      "cell_type": "markdown",
      "metadata": {
        "id": "FHJmaAtdTCT6"
      },
      "source": [
        "Consider the structure of the JSON object that was returned.  We can see that JSON objects are organized as keys and values.  Some of those values are additional JavaScript objects, some are arrays.  We can use this structure to create a Python object that we can use to easily work with the data.\n",
        "\n",
        "Throughout this course, you will find that a great deal of our time is spent manipulating or transforming data to get it into a form that we can use for machine learning.  While we could certainly write code to work with the JSON object directly, or even convert the JSON object into a series of nested dictionaries, a little bit of work up-front can make accessing the data now and in the future much easier.\n",
        "\n",
        "To this end, we'd like to build a class that represents the data within the `usermodels` collection.  If we create this class abstraction, we can then leverage MongoEngine to read the data in the collection into these objects and work with them much more easily.\n",
        "\n",
        "Doing so, as stated above, requires that we define a *class*.  You can think of a class as an abstraction that collects different attributes that represent a thing.  In this case, we are talking about user objects.  What sorts of attributes do user objects have?  Usually they have usernames, passwords, and other similar attributes.\n",
        "\n",
        "To create the class using MongoEngine, we need to import all of the functionality within `mongoengine`.  While we would typically discourage you from importing things directly into the global namespace, in this case it seems harmless since we are building more of a tool specifically for interacting with the database.\n",
        "\n",
        "Once this has been imported, we can define various types of data.  These are the types most relevant for our current task:\n",
        "\n",
        "* `StringField()` can store any arbitrary length string\n",
        "* `IntField()` is used to store integer or numeric data, but not floating point\n",
        "* `DateTimeField()` is used to store timestamps\n",
        "* `ListField()` is used to represent a collection or array of some other type of field\n",
        "\n",
        "Since we are switching to MongoEngine, we must also connect to the database using the MongoEngine connection handler.  Everything in MongoEngine depends on this.  The format of it is:\n",
        "\n",
        "```\n",
        "connect(db_name, host=server_address, port=27017)\n",
        "```\n",
        "\n",
        "# <img src=\"../images/task.png\" width=20 height=20> Task 4.5\n",
        "\n",
        "Create a class named `Usermodels`.  This class should inherit from the `Document` class provided by MongoEngine.  Define sufficient fields within the `Usermodels` class to capture all of the top-level elements of the `usermodels` collection.  If you aren't sure what type to make something, `StringField()` is very forgiving.\n",
        "\n",
        "Once you have created this class, `connect()` to the database and use your new class to retrieve the first user object in the collection.  Print out the values of the top level fields."
      ]
    },
    {
      "cell_type": "code",
      "execution_count": null,
      "metadata": {
        "id": "SdVo7kRnTCT6",
        "outputId": "515796b2-40ca-4271-d45b-93644101f1f3"
      },
      "outputs": [
        {
          "name": "stdout",
          "output_type": "stream",
          "text": [
            "jnovak REMOVED 256 kZkZt9bNxRjeS0fM3bDBYGRFboxWxbrSPj8WzBrJR8WnU5e2 2018-09-07 16:10:13.026000\n"
          ]
        }
      ],
      "source": [
        "from mongoengine import *\n",
        "import datetime   # We need this to parse dates\n",
        "\n",
        "class Usermodels(Document):\n",
        "    password = StringField()\n",
        "    name = StringField()\n",
        "    rights = IntField()\n",
        "    sessionId = StringField()\n",
        "    gameArray = ListField(StringField())\n",
        "    newGameArray = ListField(StringField())\n",
        "    games = ListField(StringField())\n",
        "    updated = DateTimeField()\n",
        "\n",
        "connect('scoreserver', host=vm_address, port=27017)\n",
        "user = Usermodels.objects().first()\n",
        "print(user.name, user.password, user.rights, user.sessionId, user.updated)"
      ]
    },
    {
      "cell_type": "markdown",
      "metadata": {
        "id": "y04_08T9TCT6"
      },
      "source": [
        "Within the data that we loaded, we have a pretty large and deep structure in the `newGameArray` field.  No doubt you have loaded this as a `ListField(StringField())`.  It turns out that MongoEngine has done something very useful for us.\n",
        "\n",
        "Looking within that data, we can see that there are many instances of `ObjectId()`.  These values represent the `_id` column from a document collection.  Wouldn't it be nice if we could use one of those values to query a collection?\n",
        "\n",
        "At first glance, it might appear that we would need to somehow parse that data to access the fields within it.  It turns out that this isn't the case.  Let's experiment.\n",
        "\n",
        "# <img src=\"../images/task.png\" width=20 height=20> Task 4.6\n",
        "\n",
        "The `newGameArray` data should have been loaded as a `ListField()`.  As such, it is now a Python array or list.  Since each element has only one of these arrays, all of the data is available as the first element in that field.\n",
        "\n",
        "Use the Python `type()` function to determine the type of the first element in the `newGameArray` value from the first record in the collection."
      ]
    },
    {
      "cell_type": "code",
      "execution_count": null,
      "metadata": {
        "id": "QRgJLs7hTCT6",
        "outputId": "1b02f352-b60e-44d0-d905-24974159a590"
      },
      "outputs": [
        {
          "name": "stdout",
          "output_type": "stream",
          "text": [
            "<class 'mongoengine.base.datastructures.BaseDict'>\n"
          ]
        }
      ],
      "source": [
        "print(type(user.newGameArray[0]))"
      ]
    },
    {
      "cell_type": "markdown",
      "metadata": {
        "id": "6xPLFhfoTCT7"
      },
      "source": [
        "Now that's interesting!  Even though we told it to treat this as an array of strings, it has loaded it as something it is referring to as `BaseDict`.  That name is a strong indication of the underlying type of this data.  This is a Dictionary!\n",
        "\n",
        "This is one of the great advantages of MongoEngine.  We can avoid parsing JSON documents by leveraging its built-in conversions.\n",
        "\n",
        "Let's see if we can use some of this data to retrieve related data from another collection.\n",
        "\n",
        "# <img src=\"../images/task.png\" width=20 height=20> Task 4.7\n",
        "\n",
        "Copy the data in the `gameData` key in the first element of the `newGameArray` from the record that we have loaded into a new variable."
      ]
    },
    {
      "cell_type": "code",
      "execution_count": null,
      "metadata": {
        "id": "k95zIk3xTCT7",
        "outputId": "b75efce6-5c96-4a2e-ef79-72106907acce"
      },
      "outputs": [
        {
          "data": {
            "text/plain": [
              "{'5a8418fc75b9e8f7c23809f7': {'correct': False,\n",
              "  'attempts': 0,\n",
              "  'hintsTaken': 0},\n",
              " '5a8418fc75b9e8f7c23809f5': {'correct': False,\n",
              "  'attempts': 0,\n",
              "  'hintsTaken': 0},\n",
              " '5a8418fc75b9e8f7c23809f3': {'correct': False,\n",
              "  'attempts': 0,\n",
              "  'hintsTaken': 0},\n",
              " '5a8418fc75b9e8f7c23809f0': {'correct': False,\n",
              "  'attempts': 0,\n",
              "  'hintsTaken': 0},\n",
              " '5a8418fc75b9e8f7c23809ee': {'correct': False,\n",
              "  'attempts': 0,\n",
              "  'hintsTaken': 0},\n",
              " '5a8418fc75b9e8f7c23809eb': {'correct': False,\n",
              "  'attempts': 0,\n",
              "  'hintsTaken': 0},\n",
              " '5a8418fc75b9e8f7c23809e8': {'correct': False,\n",
              "  'attempts': 0,\n",
              "  'hintsTaken': 0},\n",
              " '5a8418fc75b9e8f7c23809e7': {'correct': False,\n",
              "  'attempts': 0,\n",
              "  'hintsTaken': 0},\n",
              " '5a8418fc75b9e8f7c23809e4': {'correct': False,\n",
              "  'attempts': 0,\n",
              "  'hintsTaken': 0},\n",
              " '5a8418fc75b9e8f7c23809e2': {'correct': False,\n",
              "  'attempts': 0,\n",
              "  'hintsTaken': 0},\n",
              " '5a8418fc75b9e8f7c23809e0': {'correct': False,\n",
              "  'attempts': 0,\n",
              "  'hintsTaken': 0},\n",
              " '5a8418fc75b9e8f7c23809de': {'correct': False,\n",
              "  'attempts': 0,\n",
              "  'hintsTaken': 0},\n",
              " '5a8418fc75b9e8f7c23809db': {'correct': False,\n",
              "  'attempts': 0,\n",
              "  'hintsTaken': 0},\n",
              " '5a8418fc75b9e8f7c23809d9': {'correct': False,\n",
              "  'attempts': 0,\n",
              "  'hintsTaken': 0},\n",
              " '5a8418fc75b9e8f7c23809d8': {'correct': False,\n",
              "  'attempts': 0,\n",
              "  'hintsTaken': 0},\n",
              " '5a8418fc75b9e8f7c23809d7': {'correct': False,\n",
              "  'attempts': 0,\n",
              "  'hintsTaken': 0}}"
            ]
          },
          "execution_count": 7,
          "metadata": {},
          "output_type": "execute_result"
        }
      ],
      "source": [
        "gameData = user.newGameArray[0]['gameData']\n",
        "gameData"
      ]
    },
    {
      "cell_type": "markdown",
      "metadata": {
        "id": "gtcJZmZpTCT7"
      },
      "source": [
        "\n",
        "# <img src=\"../images/task.png\" width=20 height=20> Task 4.8\n",
        "\n",
        "The keys in this also appear to be object ID values.  To save just a little bit of time, we will tell you that they are from the `questionmodels` collection.  Use the next cell to build a class to represent question models and then retrieve all of the questions referenced by  data in your new variable.  What is the total value of all of the questions referenced?\n",
        "\n",
        "***Important Note:*** When you build this class, you will almost certainly run into a problem defining the field `__v`.  This is because of the special treatment of double-underscore variables in Python.  You can get around this issue by using the `db_field='__v'` keyword parameter when defining the type for the variable that you wish to assign to this field."
      ]
    },
    {
      "cell_type": "code",
      "execution_count": null,
      "metadata": {
        "id": "vDdif2nOTCT7",
        "outputId": "0450e9ce-e6a9-465e-f89b-d0350ad58221"
      },
      "outputs": [
        {
          "data": {
            "text/plain": [
              "30"
            ]
          },
          "execution_count": 8,
          "metadata": {},
          "output_type": "execute_result"
        }
      ],
      "source": [
        "questions = db['questionmodels']\n",
        "questions.find_one()\n",
        "class Questionmodels(Document):\n",
        "    typeOfAnswer = IntField()\n",
        "    proof = StringField()\n",
        "    value = IntField()\n",
        "    numHints = IntField()\n",
        "    index = IntField()\n",
        "    questionMarkdown = StringField()\n",
        "    title = StringField()\n",
        "    hints = ListField(StringField())\n",
        "    distractors = StringField()\n",
        "    answer = ListField(StringField())\n",
        "    metadata = ListField(StringField())\n",
        "    v = IntField(db_field='__v')\n",
        "    \n",
        "total = 0\n",
        "for question_id in gameData.keys():\n",
        "    questions = Questionmodels.objects.get(id=question_id)\n",
        "    total = total + questions.value\n",
        "total"
      ]
    },
    {
      "cell_type": "markdown",
      "metadata": {
        "id": "yG54l2rzTCT8"
      },
      "source": [
        "# Conclusion\n",
        "\n",
        "In this lab, we have formalized our understanding of MongoDB collections.  More importantly, we have learned how to interact with these document stores to discover the structure of the underlying data and create a useful Python interface to abstract away the difficulties of interacting with JSON and the sometimes challenging query structure of document stores."
      ]
    },
    {
      "cell_type": "code",
      "execution_count": null,
      "metadata": {
        "id": "Q1e5Use3TCT8"
      },
      "outputs": [],
      "source": []
    }
  ],
  "metadata": {
    "kernelspec": {
      "display_name": "Python 3 (ipykernel)",
      "language": "python",
      "name": "python3"
    },
    "language_info": {
      "codemirror_mode": {
        "name": "ipython",
        "version": 3
      },
      "file_extension": ".py",
      "mimetype": "text/x-python",
      "name": "python",
      "nbconvert_exporter": "python",
      "pygments_lexer": "ipython3",
      "version": "3.9.7"
    },
    "colab": {
      "provenance": [],
      "include_colab_link": true
    }
  },
  "nbformat": 4,
  "nbformat_minor": 0
}